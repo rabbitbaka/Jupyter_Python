















































# 라이브러리 불러오기
import pandas as pd





# 딕셔너리 만들기
dict1 = {'Name': ['Gildong', 'Sarang', 'Jiemae', 'Yeoin'],
        'Level': ['Gold', 'Bronze', 'Silver', 'Gold'],
        'Score': [56000, 23000, 44000, 52000]}

# 확인
print(dict1)


# 데이터프레임 만들기
df = pd.DataFrame(dict1)

# 확인
print(df.head())








# 데이터 읽어오기
path = 'https://raw.githubusercontent.com/DA4BAM/dataset/master/titanic_simple.csv'
data = pd.read_csv(path)

# 상위 10행만 확인
data.head(10)











# 데이터 읽어오기
path = 'https://raw.githubusercontent.com/DA4BAM/dataset/master/Attrition_simple2.CSV'
data = pd.read_csv(path)

# 상위 5개 확인
data.head(5)








# 데이터 읽어오기
data = pd.read_csv('airquality_simple.csv')

# 상위 5개 확인
data.head(5)





# 라이브러리 불러오기
import pandas as pd








# 데이터 읽어오기
path = 'https://raw.githubusercontent.com/DA4BAM/dataset/master/Attrition_simple2.CSV'
data = pd.read_csv(path)

# 상위 5개 확인
data.head(5)











# 상위 10개 행 데이터
data.head(10)





# 하위 3개 행 데이터
data.tail(3)





# 행 수와 열 수 확인
data.shape








# 열 확인
print(data.columns)
print(data.columns.values) # np array 형태


# 데이터프레임을 리스트 함수에 넣으면 열 이름이 리스트로 반환됨.
list(data)





# 열 자료형 확인
data.dtypes


# 열 자료형, 값 개수 확인
data.info()





# 기초통계정보
data.describe()








# 데이터 읽어오기
path = 'https://raw.githubusercontent.com/DA4BAM/dataset/master/airquality_simple.csv'
air = pd.read_csv(path)





# 상위 데이터 확인
print(air.head())


# 크기 확인
print(air.shape)


# 열 이름 확인
print(air.columns)


# 열 자료형, 값 개수 확인
print(air.info())


# 기초통계정보 확인
print(air.describe())





# 단일 열 정렬
data.sort_values(by='MonthlyIncome', ascending=False)


# 복합 열 정렬
data.sort_values(by=['JobSatisfaction', 'MonthlyIncome'], ascending=[True, False])


# 복합 열 정렬 : 별도로 저장하고, 인덱스 reset
temp = data.sort_values(by=['JobSatisfaction', 'MonthlyIncome'], ascending=[True, False])
temp.reset_index(drop = True)








# 데이터 읽어오기
path = 'https://raw.githubusercontent.com/DA4BAM/dataset/master/airquality_simple.csv'
air = pd.read_csv(path)
air.head()





# 내림차순 정렬
print(air.sort_values(by='Ozone', ascending=False))





# 오름차순 정렬
print(air.sort_values(by='Wind', ascending=False).head(10))











# MaritalStatus 열 고유값 확인
print(data['MaritalStatus'].unique())





# MaritalStatus 열 고유값 개수 확인
print(data['MaritalStatus'].value_counts())





# MonthlyIncome 열 합계 조회
print(data['MonthlyIncome'].sum())


# MonthlyIncome 열 최댓값 조회
print(data['MonthlyIncome'].max())


# 'Age', 'MonthlyIncome' 열 평균값 확인
print(data[['Age', 'MonthlyIncome']].mean())


# 'Age', 'MonthlyIncome' 열 중앙값 확인
print(data[['Age', 'MonthlyIncome']].median())








# 데이터 읽어오기
path = 'https://raw.githubusercontent.com/DA4BAM/dataset/master/airquality_simple.csv'
air = pd.read_csv(path)
air.head()





print(air['Ozone'].max())





print(air[[ 'Temp', 'Wind' ]].min())








# 라이브러리 불러오기
import pandas as pd








# 파일 읽어오기
titanic = pd.read_csv('https://raw.githubusercontent.com/DA4BAM/dataset/master/titanic_simple.csv')





# 상위 10행 출력
titanic.head(10)





# 크기 확인
titanic.shape





# 열 데이터 형식 확인
titanic.dtypes





# 열 정보 확인
titanic.info()





# 기초통계정보 확인
titanic.describe()





# 고유값 개수 확인
print(titanic['Embarked'].unique())
print(titanic['Pclass'].unique())





titanic[['Age', 'Fare']].max()






titanic.sort_values('Fare', ascending=False).head(10)



