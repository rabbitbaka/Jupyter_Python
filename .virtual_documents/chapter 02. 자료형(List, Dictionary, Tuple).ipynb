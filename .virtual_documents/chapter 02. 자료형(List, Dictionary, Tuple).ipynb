











# 리스트 생성하기
list_a = [ 1, 2, 3, 4, 5 ]
list_b = ['a','b','c','d','e']

# 전체 조회
print(list_a)
print(list_b)








# 1부터 11까지, 2씩 증가하는 값으로 리스트 생성
range(1, 12, 2)


list(range(1, 12, 2))





list_d = [1, 2, 3]
list_e = [list_d, 4, 5]
print(list_e)








a = list(range(50,0,-4))
a








a = [23, 3, 16, 45, 11]
print(a[0], a[3])
print(a[-1], a[-3])





a = [23, 3, 16, 45, 11]

print(a[0:3])
# 또는
print(a[:3])


print(a[2:5])
print(a[2:])
print(a[-3:])
print(a[-3:-1]) #이부분
print(a[-3:])








한글 = ['가','나','다','라','마','바','사']
한글





print(한글[3])
print(한글[:3])
print(한글[-2:])








a = [23, 3, 16, 45, 11]

a.append(99)
print(a)


a = [23, 3, 16, 45, 11]

a = a + [99]
print(a)





a = [23, 3, 16, 45, 11]

a[2] = 34
print(a)





a = [23, 3, 16, 45, 11]

del a[2]
print(a)





a = [23, 3, 16, 45, 11]

a.remove(45)
print(a)








list1 = [1,3,5,7]
list2 = [2,4,8]
list2.append(list1[1])
list2





del list2[2]
list2





list2[1] = list2[1] * 10
list2








dict_a = { 'v1' : 32,
           'l1' : [1, 2, 3],
           'd1' : {'a' : 1, 'b' : 2} }
print(dict_a)





dict_a.keys()


dict_a.values()


dict_a.items()





dict_a = { 'v1': 32, 'l1': [1,2,3], 'd1': {'a':1, 'b':2}}

print( dict_a['v1'])
print('=' * 30)

print( dict_a['l1'])
print( dict_a['l1'][:2])
print('=' * 30)

print( dict_a['d1'])
print( dict_a['d1']['a'])





dict_a = { 'v1': 32, 'l1': [1,2,3], 'd1': {'a':1, 'b':2}}


# 추가
dict_a['v2'] = 500
print(dict_a)


# 수정
dict_a['v2'] = 300
print(dict_a)


# 삭제
del dict_a['v2']
print(dict_a)








member = {'name':['한기영'], 'age':[49], 'gender':['m']}
member





member['name'].append('장진아')
member['age'].append(24)
member['gender'].append('m')

member





print(member['age'])
print(member['age'][0])





# 리스트로 부터 값 할당
a = [23, 3, 16]

a1, a2, a3 = a
print(a1, a2, a3)


# 딕셔너리로 부터 값 할당
dict_a = { 'v1': 32, 'l1': [1,2,3], 'd1': {'a':1, 'b':2}}

# 각 값을 할당
a1, a2, a3 = dict_a.values()
print(a1, a2, a3)





# 소괄호로 선언
t = (4,7)
t


# 조회는 인덱스로
print(t[0])
print(t[1])








list1 = list(range(5, 101, 5))
print(len(list1))





list1.remove(40)
list1





list1[-3:]





products = {'name':['바나나킥','짱구','초코파이'],'price':[2000, 3000, 4500]}
products





products['제조사'] = ['농심','삼양','오리온']
products





a, b = products['name'][1],products['price'][1]
print(a,', ',b)


ㅠ
