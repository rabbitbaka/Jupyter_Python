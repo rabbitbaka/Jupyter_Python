{
 "cells": [
  {
   "cell_type": "markdown",
   "id": "103bbbb3",
   "metadata": {},
   "source": [
    "# 함수 만들기"
   ]
  },
  {
   "cell_type": "markdown",
   "id": "e6062223",
   "metadata": {},
   "source": [
    "## (1) input(입력 매개변수)"
   ]
  },
  {
   "cell_type": "code",
   "execution_count": null,
   "id": "8c7a8f9c-0ded-493f-970c-37a661ec34be",
   "metadata": {},
   "outputs": [],
   "source": []
  },
  {
   "cell_type": "code",
   "execution_count": null,
   "id": "03258b2e",
   "metadata": {},
   "outputs": [],
   "source": [
    "# ① 함수 hello_world를 만들어 봅시다.\n",
    "#     이름 값을 받는 입력 매개변수 name(문자)\n",
    "#     'Hello '와 ' , welcome to Python World~!' 사이에 name을 넣어 출력 (Hello name, welcome to Python World~! 형태)\n",
    "#     name에 값을 지정하여 함수의 결과를 확인하시오.\n",
    "#     힌트: def 함수명(매개변수): \n",
    "#                   (실행문)\n",
    "\n",
    "def hello_world(name) :\n",
    "    print('Hello ' + name + ', welcome to Python World~!')\n",
    "    \n",
    "hello_world('Han')"
   ]
  },
  {
   "cell_type": "code",
   "execution_count": null,
   "id": "4f8671c9",
   "metadata": {},
   "outputs": [],
   "source": [
    "# ② 함수 say_hey를 만들어 봅시다.\n",
    "#     횟수를 받는 입력 매개변수 count(숫자)\n",
    "#     입력받은 count만큼 'Hey! '를 출력\n",
    "#     count에 값을 지정하여 함수의 결과를 확인하시오.\n",
    "\n",
    "def say_hey(count) :\n",
    "    print('Hey! ' * count)\n",
    "\n",
    "say_hey(5)"
   ]
  },
  {
   "cell_type": "code",
   "execution_count": null,
   "id": "fe138102",
   "metadata": {
    "scrolled": true
   },
   "outputs": [],
   "source": [
    "# ③ 함수 hello를 만들어 봅시다.\n",
    "#     이름 값을 받는 입력 매개변수 name(문자), 숫자를 받는 loud(숫자) (이때, loud = 1로 선언)\n",
    "#     loud == 1일 때, 'HELLO '와 ' ~!!! ' 사이에 name을 넣어 출력 (HELLO name ~!!! 형태)\n",
    "#     아니면, 'Hello '와 '  ~~~' 사이에 name을 넣어 출력 (Hello name ~~~ 형태)\n",
    "#     name, loud에 값을 지정하여 함수의 결과를 확인하시오.\n",
    "#     name에만 값을 지정하여 함수의 결과를 확인하시오.\n",
    "\n",
    "def hello(name, loud = 1) :\n",
    "    if loud == 1 :\n",
    "        print('HELLO ' + name + ' ~!!!')\n",
    "    else :\n",
    "        print('Hello ' + name + ' ~~~')\n",
    "\n",
    "hello(name = 'Han', loud = 0)\n",
    "hello(name = 'Han')"
   ]
  },
  {
   "cell_type": "code",
   "execution_count": null,
   "id": "2609f483",
   "metadata": {},
   "outputs": [],
   "source": [
    "# ④ 함수 say_word를 만들어 봅시다.\n",
    "#     출력할 단어를 받는 입력 매개변수 word(문자), 출력 횟수를 받는 number(숫자) (이때, number = 0으로 선언)\n",
    "#     number == 0 일 때, '입력받은 횟수가 없습니다.' 출력\n",
    "#     아니면, 입력받은 단어를 number 개 출력\n",
    "#     word, number에 값을 지정하여 함수의 결과를 확인하시오.\n",
    "#     word에만 값을 지정하여 함수의 결과를 확인하시오.\n",
    "\n",
    "def say_word(word, number = 0) : \n",
    "    if number == 0 : \n",
    "        print('입력받은 횟수가 없습니다.')\n",
    "    else :\n",
    "        print(word * number)\n",
    "        \n",
    "say_word('python', 4)\n",
    "say_word('is')\n",
    "say_word('funny', 2)\n"
   ]
  },
  {
   "cell_type": "code",
   "execution_count": null,
   "id": "1dafbd7a",
   "metadata": {},
   "outputs": [],
   "source": [
    "# ⑤ 함수 add를 만들어 봅시다.\n",
    "#     계산할 숫자들을 받는 입력 매개변수 a(숫자), b(숫자)\n",
    "#     a와 b의 합을 변수 sum에 저장\n",
    "#     '덧셈 결과는' 뒤에 sum의 값을 넣어서 출력 (덧셈 결과는 sum 형태)\n",
    "#      a, b에 값을 지정하여 함수의 결과를 확인하시오.\n",
    "\n",
    "def add(a, b) :\n",
    "    sum = a + b\n",
    "    print('덧셈 결과는 ', sum)\n",
    "\n",
    "add(7, 2)"
   ]
  },
  {
   "cell_type": "code",
   "execution_count": null,
   "id": "e291a8df",
   "metadata": {},
   "outputs": [],
   "source": [
    "# ⑥ 함수 numbers를 만들어 봅시다.\n",
    "#     출력할 숫자들을 받는 입력 매개변수 nums(숫자)는 입력 값의 수를 정하지 않고 들어오는 대로 받음\n",
    "#     입력받은 숫자들을 출력\n",
    "#     nums에 값을 지정하여 함수의 결과를 확인하시오.\n",
    "#     힌트: def 함수명(*매개변수): \n",
    "#                   (실행문)\n",
    "\n",
    "def numbers(*nums) :\n",
    "    print(nums)\n",
    "    \n",
    "numbers(1, 2, 3)\n",
    "numbers(2, 4, 6, 8, 10)"
   ]
  },
  {
   "cell_type": "code",
   "execution_count": null,
   "id": "45dc4e27",
   "metadata": {},
   "outputs": [],
   "source": [
    "# ⑦ 함수 average를 만들어 봅시다.\n",
    "#     평균을 구할 수들을 받는 입력 매개변수 nums(숫자)는 입력 값의 수를 정하지 않고 들어오는 대로 받음\n",
    "#     입력받은 숫자들의 평균을 변수 avg에 저장하여 출력\n",
    "#     nums에 값을 지정하여 함수의 결과를 확인하시오.\n",
    "\n",
    "def average(*nums) :\n",
    "    avg = sum(nums) / len(nums)\n",
    "    print(avg)\n",
    "    \n",
    "average(1, 2, 3)\n",
    "average(2, 4, 6, 8, 10)"
   ]
  },
  {
   "cell_type": "markdown",
   "id": "237600a1",
   "metadata": {},
   "source": [
    "## 2) 함수 만들기 - output"
   ]
  },
  {
   "cell_type": "code",
   "execution_count": null,
   "id": "131c774c",
   "metadata": {},
   "outputs": [],
   "source": [
    "# ① 함수 numbers1을 만들어 봅시다.\n",
    "#     출력할 숫자들을 받는 입력 매개변수 nums(숫자)는 입력 값의 수를 정하지 않고 들어오는 대로 받음\n",
    "#     입력받은 숫자들을 출력\n",
    "#     print()를 사용하여 결과를 화면에 출력\n",
    "#     nums에 값을 지정하여 함수의 결과를 확인하시오.\n",
    "\n",
    "def numbers1(*nums) :\n",
    "    print(nums)\n",
    "\n",
    "numbers1(1, 2, 3)"
   ]
  },
  {
   "cell_type": "code",
   "execution_count": null,
   "id": "e5036b57",
   "metadata": {
    "scrolled": true
   },
   "outputs": [],
   "source": [
    "# ② 함수 numbers2를 만들어 봅시다.\n",
    "#     출력할 숫자들을 받는 입력 매개변수 nums(숫자)는 입력 값의 수를 정하지 않고 들어오는 대로 받음\n",
    "#     입력받은 숫자들을 출력\n",
    "#     return을 사용하여 결과를 ouput으로 내보내고 함수 종료\n",
    "#     nums에 값을 지정하여 함수의 결과를 확인하시오.\n",
    "\n",
    "def numbers2(*nums) : \n",
    "    return nums\n",
    "\n",
    "numbers2(1, 2, 3)"
   ]
  },
  {
   "cell_type": "code",
   "execution_count": null,
   "id": "130cf51c",
   "metadata": {},
   "outputs": [],
   "source": [
    "# ③ 앞서 만든 두 함수 numbers1, numbers2에 대해\n",
    "#     두 함수의 nums에 동일한 값을 지정하고,\n",
    "#     numbers1의 결과, numbers2의 결과를 각각 변수 a1, a2에 저장하여 출력하고 결과를 비교하시오.\n",
    "\n",
    "a1 = numbers1(1, 2, 3)\n",
    "print(a1)\n",
    "\n",
    "a2 = numbers2(1, 2, 3)\n",
    "print(a2)"
   ]
  },
  {
   "cell_type": "code",
   "execution_count": null,
   "id": "c8a2ed8c",
   "metadata": {},
   "outputs": [],
   "source": [
    "# ④ 함수 calculate를 만들어 봅시다.\n",
    "#     계산할 숫자들을 받는 입력 매개변수 a(숫자), b(숫자)\n",
    "#     입력받은 두 수의 합을 변수 summ에 저장하고,\n",
    "#     입력받은 두 수의 곱을 변수 mult에 저장하여 출력\n",
    "#     return을 사용하여 결과를 output으로 내보내고 함수 종료\n",
    "#    a, b에 값을 지정하여 함수의 결과를 확인하시오.\n",
    "\n",
    "def calculate(a, b) :\n",
    "    summ = a + b\n",
    "    mult = a * b\n",
    "    return summ, mult\n",
    "\n",
    "calculate(10, 5)"
   ]
  },
  {
   "cell_type": "code",
   "execution_count": null,
   "id": "9aada59d",
   "metadata": {},
   "outputs": [],
   "source": [
    "# ⑤ 앞서 만든 함수 calculate에 대해\n",
    "#     a, b에 값을 지정하고 결과를 변수 r1, r2에 저장하여 출력하시오.\n",
    "\n",
    "r1, r2 = calculate(10, 5)\n",
    "print(r1)\n",
    "print(r2)"
   ]
  },
  {
   "cell_type": "code",
   "execution_count": null,
   "id": "6d9be80f",
   "metadata": {},
   "outputs": [],
   "source": [
    "# ⑥ 함수 add_nums를 만들어 봅시다.\n",
    "#     더할 숫자들을 받는 입력 매개변수 nums(숫자)는 입력 값의 수를 정하지 않고 들어오는 대로 받음\n",
    "#     입력받은 모든 수의 합을 변수 result에 저장하여 출력\n",
    "#     return을 사용하여 결과를 output으로 내보내고 함수 종료\n",
    "#     nums에 값을 지정하여 결과를 확인하시오.\n",
    "\n",
    "def add_nums (*nums) :\n",
    "    result = 0\n",
    "    for i in nums :\n",
    "        result += i\n",
    "    return result\n",
    "\n",
    "add_nums(2, 4, 6, 8, 10)"
   ]
  },
  {
   "cell_type": "code",
   "execution_count": null,
   "id": "4d4b4ca4",
   "metadata": {},
   "outputs": [],
   "source": [
    "# ⑦ [심화] 함수 even을 만들어 봅시다.\n",
    "#              짝수 여부를 판별할 숫자들의 리스트를 받는 입력 매개변수 num_list(리스트)\n",
    "#              입력받은 리스트의 값들 중 짝수로만 구성된 새로운 리스트 출력\n",
    "#              return을 사용하여 결과를 output으로 내보내고 함수 종료\n",
    "#              num_list에 값을 지정하여 결과를 확인하시오.\n",
    "#             힌트: 함수 처리 코드 내 짝수를 저장할 공백 리스트 result 생성\n",
    "\n",
    "def even(num_list) :\n",
    "    result =[]\n",
    "    for i in list1 :\n",
    "        if i % 2 == 0 :\n",
    "            result.append(i)\n",
    "    return result\n",
    "\n",
    "even([2, 3, 6, 8, 11])"
   ]
  },
  {
   "cell_type": "code",
   "execution_count": null,
   "id": "01fac884",
   "metadata": {},
   "outputs": [],
   "source": [
    "# ⑧ [심화] 예금 잔액을 입력하면 이자를 더한 값을 출력해 주는 함수 interest를 만들어 봅시다.\n",
    "#              예금 잔액을 받는 입력 매개변수 deposit(숫자), 한 달 이자율을 받는 rate(숫자)\n",
    "#              한 달 뒤 이자를 합한 총 예금 잔액을 계산하여 변수 sum에 저장하여 출력\n",
    "#              계산식 : 예금 잔액 * (1 + 이자율)\n",
    "#              return을 사용하여 결과를 output으로 내보내고 함수 종료\n",
    "#              deposit, rate에 값을 지정하여 결과를 확인하시오.\n",
    "\n",
    "def interest(deposit, rate) : \n",
    "    sum = deposit * (1 + rate)\n",
    "    return (sum)\n",
    "\n",
    "interest(1200000, 0.03)"
   ]
  },
  {
   "cell_type": "code",
   "execution_count": null,
   "id": "3073439e",
   "metadata": {},
   "outputs": [],
   "source": [
    "# ⑨ [심화] 월급을 계산해 주는 함수 payment를 만들어 봅시다.\n",
    "#               근무시간이 40시간이 넘으면 초과 근무시간에는 시급의 1.5배를 지급합니다.\n",
    "#               근무시간을 받는 입력 매개변수 hour(숫자), 시급을 받는 wage(숫자)\n",
    "#               총 계산된 월급을 변수 total에 저장하여 출력\n",
    "#               return을 사용하여 결과를 output으로 내보내고 함수 종료\n",
    "#               hour, wage에 값을 지정하여 결과를 확인하시오.\n",
    "#               힌트: if 문을 활용하여 근무시간이 40분 초과일 경우와 아닐 경우를 나누어서 계산한다.\n",
    "#               힌트: 총 근무시간이 56시간일 경우, 40시간은 기본 시급, 나머지 16시간은 기본 시급의 1.5배를 지급합니다.\n",
    "\n",
    "def payment(hour, wage) :\n",
    "    if hour > 40 :\n",
    "        regular = wage * hour                          # 기본 근무시간 40시간에 대한 급여\n",
    "        optional = (wage * 1.5) * (hour - 40)   # 초과 근무시간에 대한 급여\n",
    "        total = regular + optional\n",
    "    else: \n",
    "        total = wage * hour\n",
    "    return total\n",
    "\n",
    "payment(73, 12000)"
   ]
  },
  {
   "cell_type": "code",
   "execution_count": null,
   "id": "014bc40a",
   "metadata": {},
   "outputs": [],
   "source": [
    "# ⑩ [심화] 입력한 숫자 범위 내에 존재하는 소수를 출력하는 함수 isPrimeNumber을 만들어 봅시다.\n",
    "#              숫자 범위의 시작과 끝이 될 입력 매개변수 a(숫자), b(숫자)\n",
    "#               return을 사용하여 결과를 output으로 내보내고 함수 종료\n",
    "#              변수 a, b에 값을 지정하여 결과를 확인하시오.\n",
    "#              (에라토스테네스의 체 방법을 사용하지 않고 함수를 만들겠습니다.)\n",
    "#              힌트: for loop를 반복하여 사용해 봅시다.\n",
    "\n",
    "\n",
    "def isPrimeNumber(a, b) :\n",
    "    primes = []\n",
    "\n",
    "    for i in range(a, b + 1) :\n",
    "        if i == 2 :\n",
    "            primes.append(i)\n",
    "\n",
    "        for j in range(2, i) :\n",
    "            if i % j == 0 :\n",
    "                break\n",
    "            if j == i - 1 :\n",
    "                primes.append(i)\n",
    "\n",
    "    return primes\n",
    "    \n",
    "isPrimeNumber(14, 90)"
   ]
  },
  {
   "cell_type": "markdown",
   "id": "1036835d",
   "metadata": {},
   "source": [
    "## 3) 함수 만들기 - 예외처리"
   ]
  },
  {
   "cell_type": "code",
   "execution_count": null,
   "id": "e72c0041",
   "metadata": {},
   "outputs": [],
   "source": [
    "# ① 함수 divide를 만들어 봅시다.\n",
    "#     나눠질 숫자를 받는 입력 매개변수 a(숫자), 나눌 숫자를 받는 b(숫자)\n",
    "#     a를 b로 나눈 값을 result에 저장\n",
    "#     return을 사용하여 result 값을 output으로 내보내고 함수 종료\n",
    "#     a에 10, b에 0 값을 지정하여 결과를 확인하시오.\n",
    "\n",
    "def divide(a, b) :\n",
    "    result = a / b\n",
    "    return result\n",
    "\n",
    "divide(10, 0)"
   ]
  },
  {
   "cell_type": "code",
   "execution_count": null,
   "id": "c51d3b4f",
   "metadata": {},
   "outputs": [],
   "source": [
    "# ② ZeroDivisionError: division by zero 이라는 오류가 발생하였습니다.\n",
    "#     이를 해결하기 위해 오류 처리 코드를 넣어 봅시다.\n",
    "#     두 번째 입력 값으로 0을 넣으면 안 된다는 문장 출력하고 계산되지 않도록 합시다.\n",
    "#     a에 10, b에 0 값을 지정하여 결과를 확인하시오.\n",
    "\n",
    "def divide(a, b) :\n",
    "    if b == 0 :\n",
    "        print('나누는 값이 0이 될 수 없습니다.')\n",
    "    else: \n",
    "        result = a / b\n",
    "        return result\n",
    "\n",
    "divide(10, 0)"
   ]
  },
  {
   "cell_type": "code",
   "execution_count": null,
   "id": "c03db780",
   "metadata": {},
   "outputs": [],
   "source": [
    "# ③ 함수 string_length를 만들어봅시다.\n",
    "#     길이를 확인할 문자열을 받는 입력 매개변수 my_string(문자)\n",
    "#     my_string의 길이를 변수 length에 저장\n",
    "#     return을 사용하여 length 값을 output으로 내보내고 함수 종료\n",
    "#     list에 12345 값을 지정하여 결과를 확인하시오.\n",
    "\n",
    "def list_length(my_list) :\n",
    "    length = len(my_list)\n",
    "    return length\n",
    "\n",
    "list_length(12345)"
   ]
  },
  {
   "cell_type": "code",
   "execution_count": null,
   "id": "37ba488a",
   "metadata": {},
   "outputs": [],
   "source": [
    "# ④ TypeError: object of type 'int' has no len() 이라는 오류가 발생했습니다.\n",
    "#     이를 해결하기 위해 오류 처리 코드를 넣어 봅시다.\n",
    "#     문자가 아닌 값을 입력 값으로 넣으면 안 된다는 문장 출력하고 계산되지 않도록 합시다.\n",
    "#      list에 12345 값을 지정하여 결과를 확인하시오.\n",
    "\n",
    "def list_length(my_list) :\n",
    "    if (type(my_list) is str) != True :\n",
    "        print('문자가 아닌 값은 입력할 수 없습니다.')\n",
    "    else:\n",
    "        length = len(my_list)\n",
    "        return length\n",
    "\n",
    "list_length(12345)"
   ]
  },
  {
   "cell_type": "code",
   "execution_count": null,
   "id": "1b84cb0d",
   "metadata": {},
   "outputs": [],
   "source": [
    "# ⑤ [심화] 에어컨 온도를 설정하는 함수 set_temp를 만들어 봅시다.\n",
    "#              현재 온도를 받는 입력 매개변수 current(숫자), 설정할 온도를 받는 temp(숫자)\n",
    "#              에어컨의 온도는 18 ~ 30 도 사이여야만 합니다.\n",
    "#              온도 설정을 마치면 현재 온도를 출력\n",
    "#              current에 현재 온도, temp에 설정 희망 온도 값을 지정하여 결과를 확인하시오.\n",
    "#              힌트: 현재 온도가 설정할 온도보다 낮을 경우, 높을 경우, 같을 경우를 나누어 생각해 봅시다.\n",
    "\n",
    "def set_temp(current, temp) :\n",
    "    if (temp < 18 or temp > 30) :           # 설정 온도를 잘못 입력한 경우\n",
    "        print('에어컨은 18 ~ 30 도 사이여야만 합니다.')\n",
    "    elif current < temp :                       # 현재 온도가 설정 온도보다 낮은 경우\n",
    "        while current < temp :\n",
    "            current += 1\n",
    "        print('현재 온도:', current)\n",
    "    elif curren > temp :                      # 현재 온도가 설정 온도보다 높은 경우\n",
    "        while current > temp :\n",
    "            current -= 1\n",
    "        print('현재 온도:', current)\n",
    "    else:                                          # 현재 온도가 설정 온도와 같은 경우\n",
    "        print('현재 온도:', current)\n",
    "            \n",
    "set_temp(18, 26)"
   ]
  },
  {
   "cell_type": "code",
   "execution_count": null,
   "id": "779b4262",
   "metadata": {},
   "outputs": [],
   "source": [
    "# ⑥ [심화] 태어난 해를 네 자리 숫자로 입력하면 한국 나이를 반환하는 함수 my_age를 만들어 봅시다.\n",
    "#                태어난 해를 받는 입력 매개변수 birth_year(숫자)\n",
    "#                나이는 1보다 작을 수 없으므로 현재 연도보다 큰 숫자를 입력하면 안 된다는 문장 출력하고 계산되지 않도록 합시다.\n",
    "#                birth_year에 태어난 연도를 지정하여 결과를 확인하시오.\n",
    "\n",
    "#                오늘의 날짜를 구하는 코드는 다음와 같습니다. (지금은 이 코드를 이해할 필요는 없습니다.)\n",
    "#                from datetime import datetime\n",
    "#                today = datetime.today()\n",
    "#                today\n",
    "#                출력 결과: datetime.datetime(2021, 12, 20, 15, 46, 1, 94942)\n",
    "#                위 코드의 today에서 연도를 구하는 방법은 다음과 같습니다.\n",
    "#                today.year\n",
    "#                출력 결과: 2021\n",
    "\n",
    "def my_age(birth_year):\n",
    "    from datetime import datetime\n",
    "    today = datetime.today()\n",
    "    if birth_year > today.year :\n",
    "        print('현재 연도보다 큰 숫자를 입력할 수 없습니다.')\n",
    "    else : \n",
    "        return today.year - birth_year + 1\n",
    "\n",
    "my_age(2025)"
   ]
  },
  {
   "cell_type": "markdown",
   "id": "832bfdc1",
   "metadata": {},
   "source": [
    "## 4) 종합 실습"
   ]
  },
  {
   "cell_type": "markdown",
   "id": "264f8a17",
   "metadata": {},
   "source": [
    "[로또 번호 생성기]를 만들어 봅시다.\n",
    ">① 로또 번호 여섯 개를 무작위로 생성하는 함수 lotto_number를 만들어 봅시다. (lotto_number는 입력값이 없는 함수입니다.)  \n",
    "② random 모듈의 randint 함수를 사용하시오.  \n",
    "randint(a, b)는 a, b 사이의 랜덤한 정수를 반환하고, 반환값은 a, b를 포함한 범위입니다.  \n",
    "    * 사용법  \n",
    "        import random    \n",
    "        random.randint(1, 46)  \n",
    "③ '로또 번호를 몇 개 생성할까요? (1 ~ 10 사이 값이어야 합니다.)' 라고 출력되고    \n",
    "④ 사용자 입력을 기다립니다.  \n",
    "⑤ 사용자가 1부터 10까지 이외의 값을 입력하면, '잘못 입력하셨습니다. 다시 입력하시오.' 출력하고  \n",
    "⑥  숫자가 입력되면, 입력된 수만큼 로또 번호 리스트를 생성하고 오름차순으로 정렬하여 출력합니다.  \n",
    "⑦ 출력 형태 예시 ) 1개의 로또 번호 생성 시, 1 번째 로또 번호: [4, 12, 23, 35, 38, 41]  \n",
    "⑧ 직접 함수를 호출하여 원하는 수의 로또 번호를 생성해 봅시다."
   ]
  },
  {
   "cell_type": "code",
   "execution_count": null,
   "id": "c7d10c68",
   "metadata": {},
   "outputs": [],
   "source": [
    "import random\n",
    "\n",
    "def lotto_number() :\n",
    "    while True: \n",
    "        print('로또 번호를 몇 개 생성할까요? (1 ~ 10 사이 값이어야 합니다.)')\n",
    "        count = int(input())\n",
    "\n",
    "        if (count < 1 or count > 10) :                             # 1 ~ 10 사이의 값을 입력하지 않은 경우\n",
    "            print('잘못 입력하셨습니다. 다시 입력하시오.')\n",
    "        else: \n",
    "            for i in range(count):\n",
    "                lotto = []                                                # 공복 리스트 lotto 생성\n",
    "\n",
    "                while len(lotto) < 6:                               # lotto 리스트의 길이가 6개 미만일 동안\n",
    "                    rand_num = random.randint(1, 46)   # randint 함수를 사용해 임의의 수 생성\n",
    "                    if rand_num not in lotto:                  # 중복되지 않은 수의 경우\n",
    "                        lotto.append(rand_num)              # lotto 리스트에 추가\n",
    "\n",
    "                lotto.sort()                                          # 생성된 로또 번호를 오름차순으로 정렬\n",
    "\n",
    "                print(i + 1, '번째 로또 번호: ', lotto)\n",
    "            break\n",
    "\n",
    "lotto_number()"
   ]
  },
  {
   "cell_type": "markdown",
   "id": "1c7009e9",
   "metadata": {},
   "source": [
    "(추가) 다음의 기능을 추가해 봅시다.\n",
    "> ① 함수를 호출할 때 입력 매개변수에 원하는 숫자들을 입력하면 그 숫자들을 포함한 로또 번호를 생성하도록 만들어 봅시다.  \n",
    "② 입력 매개변수가 6개를 초과할 경우 번호 생성이 실행되지 않고 함수가 종료됩니다."
   ]
  },
  {
   "cell_type": "code",
   "execution_count": null,
   "id": "5fba3d4a",
   "metadata": {},
   "outputs": [],
   "source": [
    "import random\n",
    "\n",
    "def lotto_number(*my_numbers) :\n",
    "    if len(my_numbers) > 6:                                           # 여섯 개 이상의 숫자를 포함하고자 할 때\n",
    "        print(\"번호가 너무 많습니다. 최대 6개까지 고를 수 있습니다.\")\n",
    "    else: \n",
    "        while True:\n",
    "            print(\"로또 번호를 몇 개 생성할까요? (1 ~ 10 사이 값이어야 합니다.)\")\n",
    "            count = int(input())\n",
    "\n",
    "            if (count < 1 or count > 10) :\n",
    "                print(\"잘못 입력하셨습니다. 다시 입력하시오.\")\n",
    "            else: \n",
    "                for i in range(count):\n",
    "                    lotto = []                                                # 공복 리스트 lotto 생성\n",
    "\n",
    "                    while len(lotto) < 6:                               # lotto 리스트의 길이가 6개 미만일 동안\n",
    "                    rand_num = random.randint(1, 46)   # randint 함수를 사용해 임의의 수 생성\n",
    "                    if rand_num not in lotto:                  # 중복되지 않은 수의 경우\n",
    "                        lotto.append(rand_num)              # lotto 리스트에 추가\n",
    "\n",
    "                lotto.sort()                                          # 생성된 로또 번호를 오름차순으로 정렬\n",
    "\n",
    "                    print(i + 1, '번째 로또 번호: ', lotto)\n",
    "                break\n",
    "\n",
    "lotto_number(13, 24)"
   ]
  }
 ],
 "metadata": {
  "kernelspec": {
   "display_name": "Python 3 (ipykernel)",
   "language": "python",
   "name": "python3"
  },
  "language_info": {
   "codemirror_mode": {
    "name": "ipython",
    "version": 3
   },
   "file_extension": ".py",
   "mimetype": "text/x-python",
   "name": "python",
   "nbconvert_exporter": "python",
   "pygments_lexer": "ipython3",
   "version": "3.10.9"
  }
 },
 "nbformat": 4,
 "nbformat_minor": 5
}
