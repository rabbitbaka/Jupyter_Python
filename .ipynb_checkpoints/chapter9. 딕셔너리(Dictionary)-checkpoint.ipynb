{
 "cells": [
  {
   "cell_type": "markdown",
   "id": "5a3c3741",
   "metadata": {},
   "source": [
    "# chapter 9. 딕셔너리(Dictionary)"
   ]
  },
  {
   "cell_type": "markdown",
   "id": "0381ccdd",
   "metadata": {},
   "source": [
    "## 1) 딕셔너리 생성"
   ]
  },
  {
   "cell_type": "code",
   "execution_count": null,
   "id": "834b0be6",
   "metadata": {},
   "outputs": [],
   "source": [
    "# ① 딕셔너리 dict_a을 구성하는 값들은 다음과 같다.\n",
    "#     -'v1' : 32\n",
    "#     -'l1' : [1, 2, 3]\n",
    "#     -'d1' : {'a' :  1, 'b' : 2}\n",
    "#     dict_a를 생성하시오.\n",
    "\n",
    "dict_a = {  'v1' : 32,\n",
    "        'l1' : [1, 2, 3],\n",
    "         'd1' : {'a' : 1, 'b' : 2} }\n",
    "print(dict_a)"
   ]
  },
  {
   "cell_type": "code",
   "execution_count": null,
   "id": "dd7076e3",
   "metadata": {},
   "outputs": [],
   "source": [
    "# ② 딕셔너리 my_dict를 구성하는 값들은 다음과 같다.\n",
    "#     -'이름' : '홍길동'\n",
    "#     -'나이' : 25\n",
    "#     -'전공' : '경영학'\n",
    "#     -'사용 언어' : ['C언어', '파이썬', '자바']\n",
    "#     my_dict를 생성하시오.\n",
    "\n",
    "my_dict = { '이름' : '홍길동', \n",
    "          '나이' : 25, \n",
    "          '전공' : '경영학', \n",
    "          '사용 언어' : ['C언어', '파이썬', '자바'] }\n",
    "print(my_dict)"
   ]
  },
  {
   "cell_type": "markdown",
   "id": "0986d4ee",
   "metadata": {},
   "source": [
    "## 2) 딕셔너리 조회"
   ]
  },
  {
   "cell_type": "code",
   "execution_count": null,
   "id": "c66bfc2e",
   "metadata": {},
   "outputs": [],
   "source": [
    "# ① 딕셔너리 dict_a = {'v1': 32, 'l1': [1, 2, 3], 'd1': {'a': 1, 'b': 2}}일 때, \n",
    "#     다음과 같은 출력 결과가 나오도록 딕셔너리를 조회하시오.\n",
    "\n",
    "#     32\n",
    "#     ==============================\n",
    "#     [1, 2, 3]\n",
    "#     [1, 2]\n",
    "#    ==============================\n",
    "#    {'a' : 1, 'b' : 2}\n",
    "#    1\n",
    "\n",
    "dict_a = { 'v1': 32, 'l1': [1,2,3], 'd1': {'a':1, 'b':2}}\n",
    "\n",
    "print( dict_a['v1'])\n",
    "print('=' * 30)\n",
    "print( dict_a['l1'])\n",
    "print( dict_a['l1'][:2])\n",
    "print('=' * 30)\n",
    "print( dict_a['d1'])\n",
    "print( dict_a['d1']['a'])"
   ]
  },
  {
   "cell_type": "code",
   "execution_count": null,
   "id": "b7cbfe87",
   "metadata": {},
   "outputs": [],
   "source": [
    "# ② 딕셔너리 my_dict = {'이름': '홍길동', '나이': 25, '전공': '경영학', '사용 언어': ['C언어', '파이썬', '자바']}일 때,\n",
    "#     다음과 같은 출력 결과가 나오도록 딕셔너리를 조회하시오.\n",
    "\n",
    "#     홍길동 25 세\n",
    "#     경영학 전공입니다.\n",
    "#     파이썬 이 가장 자신 있어요.\n",
    "\n",
    "my_dict = {'이름': '홍길동', '나이': 25, '전공': '경영학', '사용 언어': ['C언어', '파이썬', '자바']}\n",
    "\n",
    "print(my_dict['이름'], my_dict['나이'], \"세\")\n",
    "print(my_dict['전공'], \"전공입니다.\")\n",
    "print(my_dict['사용 언어'][1], \"이 가장 자신 있어요.\")"
   ]
  },
  {
   "cell_type": "code",
   "execution_count": null,
   "id": "e0cf8f00",
   "metadata": {},
   "outputs": [],
   "source": [
    "# ③ 딕셔너리 dict_a = {'v1': 32, 'l1': [1, 2, 3], 'd1': {'a': 1, 'b': 2}}일 때, \n",
    "#     딕셔너리의 키, 딕셔너리의 값, 딕셔너리의 키와 값의 쌍을 각각 조회하시오.\n",
    "\n",
    "dict_a = { 'v1': 32, 'l1': [1,2,3], 'd1': {'a':1, 'b':2}}\n",
    "\n",
    "print(dict_a.keys())\n",
    "print(dict_a.values())\n",
    "print(dict_a.items())"
   ]
  },
  {
   "cell_type": "code",
   "execution_count": null,
   "id": "cd3610a6",
   "metadata": {},
   "outputs": [],
   "source": [
    "# ④ 딕셔너리 my_dict = {'이름': '홍길동', '나이': 25, '전공': '경영학', '사용 언어': ['C언어', '파이썬', '자바']}일 때,\n",
    "#     딕셔너리의 키, 딕셔너리의 값, 딕셔너리의 키와 값의 쌍을 각각 조회하시오.\n",
    "\n",
    "my_dict = {'이름': '홍길동', '나이': 25, '전공': '경영학', '사용 언어': ['C언어', '파이썬', '자바']}\n",
    "\n",
    "print(my_dict.keys())\n",
    "print(my_dict.values())\n",
    "print(my_dict.items())"
   ]
  },
  {
   "cell_type": "markdown",
   "id": "1131f63c",
   "metadata": {},
   "source": [
    "## 3) 여러 개의 값 한꺼번에 할당하기"
   ]
  },
  {
   "cell_type": "code",
   "execution_count": null,
   "id": "2202c10e",
   "metadata": {},
   "outputs": [],
   "source": [
    "# ① 리스트 animals = ['사자', '코끼리', '하마']일 때,\n",
    "#     animals의 각 값을 변수 a1, a2, a3에 개별적으로 할당하고 하나의 print()로 출력하시오.\n",
    "\n",
    "animals = ['사자', '코끼리', '하마']\n",
    "a1, a2, a3 = animals\n",
    "\n",
    "print(a1, a2, a3)"
   ]
  },
  {
   "cell_type": "code",
   "execution_count": null,
   "id": "20f9bf7a",
   "metadata": {},
   "outputs": [],
   "source": [
    "# ② 리스트 movies = ['인어공주', '알라딘', '겨울왕국', '라푼젤']일 때,\n",
    "#     movies의 각 값을 변수 m1, m2, m3, m4에 개별적으로 할당하고 하나의 print()로 출력하시오.\n",
    "\n",
    "movies = ['인어공주', '알라딘', '겨울왕국', '라푼젤']\n",
    "m1, m2, m3, m4 = movies\n",
    "\n",
    "print(m1, m2, m3, m4)"
   ]
  },
  {
   "cell_type": "code",
   "execution_count": null,
   "id": "ccea38a0",
   "metadata": {},
   "outputs": [],
   "source": [
    "# ③ 딕셔너리 dict_a = {'v1': 32, 'l1': [1, 2, 3], 'd1': {'a': 1, 'b': 2}}일 때, \n",
    "#     dict_a의 각 값을 변수 i1, i2, i3에 개별적으로 할당하고,\n",
    "#     i2, i3의 값을 하나의 print()로 출력하시오.\n",
    "\n",
    "dict_a = { 'v1': 32, 'l1': [1,2,3], 'd1': {'a':1, 'b':2}}\n",
    "i1, i2, i3 = dict_a.items()\n",
    "\n",
    "print(i2, i3)"
   ]
  },
  {
   "cell_type": "code",
   "execution_count": null,
   "id": "6bc78c3c",
   "metadata": {},
   "outputs": [],
   "source": [
    "# ④ 딕셔너리 dict_a = {'v1': 32, 'l1': [1, 2, 3], 'd1': {'a': 1, 'b': 2}}일 때, \n",
    "#     dict_a의 각 값을 변수 i1, i2, i3에 개별적으로 할당하고,\n",
    "#     i2의 첫 번째 값, i3의 두 번째 값을 하나의 print()로 출력하시오.\n",
    "\n",
    "dict_a = { 'v1': 32, 'l1': [1,2,3], 'd1': {'a':1, 'b':2}}\n",
    "i1, i2, i3 = dict_a.items()\n",
    "\n",
    "print(i2[0], i3[1])"
   ]
  },
  {
   "cell_type": "code",
   "execution_count": null,
   "id": "355b7bac",
   "metadata": {},
   "outputs": [],
   "source": [
    "# ⑤ 딕셔너리 my_dict = {'이름': '홍길동', '나이': 25, '전공': '경영학', '사용 언어': ['C언어', '파이썬', '자바']}일 때,\n",
    "#     my_dict의 각 값을 변수 j1, j2, j3, j4에 개별적으로 할당하고,\n",
    "#     j1, j3의 값을 하나의 print()로 출력하시오.\n",
    "\n",
    "my_dict = {'이름': '홍길동', '나이': 25, '전공': '경영학', '사용 언어': ['C언어', '파이썬', '자바']}\n",
    "j1, j2, j3, j4 = my_dict.items()\n",
    "\n",
    "print(j1, j3)"
   ]
  },
  {
   "cell_type": "code",
   "execution_count": null,
   "id": "40c5701e",
   "metadata": {},
   "outputs": [],
   "source": [
    "# ⑥ 딕셔너리 my_dict = {'이름': '홍길동', '나이': 25, '전공': '경영학', '사용 언어': ['C언어', '파이썬', '자바']}일 때,\n",
    "#     my_dict의 각 값을 변수 j1, j2, j3, j4에 개별적으로 할당하고,\n",
    "#     j4의 두 번째값을 출력하시오.\n",
    "\n",
    "my_dict = {'이름': '홍길동', '나이': 25, '전공': '경영학', '사용 언어': ['C언어', '파이썬', '자바']}\n",
    "j1, j2, j3, j4 = my_dict.items()\n",
    "\n",
    "print(j4[1])"
   ]
  },
  {
   "cell_type": "markdown",
   "id": "65e62c97",
   "metadata": {},
   "source": [
    "## 4) 딕셔너리 수정"
   ]
  },
  {
   "cell_type": "code",
   "execution_count": null,
   "id": "1339fb8d",
   "metadata": {},
   "outputs": [],
   "source": [
    "# ① 딕셔너리 dict_a = {'v1': 32, 'l1': [1, 2, 3], 'd1': {'a': 1, 'b': 2}}일 때, \n",
    "#     dict_a에 'v2' : 500 값을 새롭게 추가하시오.\n",
    "#     힌트: 딕셔너리[추가할 키] = 추가할 값\n",
    "\n",
    "dict_a = { 'v1': 32, 'l1': [1,2,3], 'd1': {'a':1, 'b':2}}\n",
    "\n",
    "dict_a['v2'] = 500\n",
    "print(dict_a)"
   ]
  },
  {
   "cell_type": "code",
   "execution_count": null,
   "id": "371a820d",
   "metadata": {},
   "outputs": [],
   "source": [
    "# ② 딕셔너리 dict_a = {'v1': 32, 'l1': [1, 2, 3], 'd1': {'a': 1, 'b': 2}}일 때, \n",
    "#     dict_a에 'v2' : 500 값을 새롭게 추가하고,\n",
    "#     dict_a에 'v2'  값을 400으로 수정하시오.\n",
    "#     힌트: 딕셔너리[수정할 키] = [수정할 값]\n",
    "\n",
    "dict_a = { 'v1': 32, 'l1': [1,2,3], 'd1': {'a':1, 'b':2}}\n",
    "\n",
    "dict_a['v2'] = 500\n",
    "print(dict_a)\n",
    "\n",
    "dict_a['v2'] = 400\n",
    "print(dict_a)"
   ]
  },
  {
   "cell_type": "code",
   "execution_count": null,
   "id": "bfcb4e6d",
   "metadata": {},
   "outputs": [],
   "source": [
    "# ③ 딕셔너리 dict_a = {'v1': 32, 'l1': [1, 2, 3], 'd1': {'a': 1, 'b': 2}}일 때, \n",
    "#     dict_a에 'v2' : 500 값을 새롭게 추가하고,\n",
    "#     dict_a에 'v2'  값을 400으로 수정하고,\n",
    "#     dict_a에 'v2' 를 삭제하시오.\n",
    "#     힌트: del 딕셔너리[삭제할 키]\n",
    "\n",
    "dict_a = { 'v1': 32, 'l1': [1,2,3], 'd1': {'a':1, 'b':2}}\n",
    "\n",
    "dict_a['v2'] = 500\n",
    "print(dict_a)\n",
    "\n",
    "dict_a['v2'] = 400\n",
    "print(dict_a)\n",
    "\n",
    "del dict_a['v2']\n",
    "print(dict_a)"
   ]
  },
  {
   "cell_type": "code",
   "execution_count": null,
   "id": "f3649fa0",
   "metadata": {},
   "outputs": [],
   "source": [
    "# ④ 딕셔너리 my_dict = {'이름': '홍길동', '나이': 25, '전공': '경영학', '사용 언어': ['C언어', '파이썬', '자바']}일 때,\n",
    "#     my_dict에 '지역' : '서울특별시 강남구' 값을 새롭게 추가하시오.\n",
    "\n",
    "my_dict = {'이름': '홍길동', '나이': 25, '전공': '경영학', '사용 언어': ['C언어', '파이썬', '자바']}\n",
    "\n",
    "my_dict['지역'] = '서울특별시 강남구'\n",
    "print(my_dict)"
   ]
  },
  {
   "cell_type": "code",
   "execution_count": null,
   "id": "cbf8f8e7",
   "metadata": {},
   "outputs": [],
   "source": [
    "# ⑤ 딕셔너리 my_dict = {'이름': '홍길동', '나이': 25, '전공': '경영학', '사용 언어': ['C언어', '파이썬', '자바']}일 때,\n",
    "#     my_dict에 '지역' : '서울특별시 강남구' 값을 새롭게 추가하고\n",
    "#     my_dict에 '지역' 값을 '서울특별시 마포구'로 수정하시오.\n",
    "\n",
    "my_dict = {'이름': '홍길동', '나이': 25, '전공': '경영학', '사용 언어': ['C언어', '파이썬', '자바']}\n",
    "\n",
    "my_dict['지역'] = '서울특별시 강남구'\n",
    "print(my_dict)\n",
    "\n",
    "my_dict['지역'] = '서울특별시 마포구'\n",
    "print(my_dict)"
   ]
  },
  {
   "cell_type": "code",
   "execution_count": null,
   "id": "25e8d9fb",
   "metadata": {},
   "outputs": [],
   "source": [
    "# ⑥ 딕셔너리 my_dict = {'이름': '홍길동', '나이': 25, '전공': '경영학', '사용 언어': ['C언어', '파이썬', '자바']}일 때,\n",
    "#     my_dict에 '지역' : '서울특별시 강남구' 값을 새롭게 추가하고\n",
    "#     my_dict에 '지역' 값을 '서울특별시 마포구'로 수정하고\n",
    "#    my_dict에 '지역' 를 삭제하시오.\n",
    "\n",
    "my_dict = {'이름': '홍길동', '나이': 25, '전공': '경영학', '사용 언어': ['C언어', '파이썬', '자바']}\n",
    "\n",
    "my_dict['지역'] = '서울특별시 강남구'\n",
    "print(my_dict)\n",
    "\n",
    "my_dict['지역'] = '서울특별시 마포구'\n",
    "print(my_dict)\n",
    "\n",
    "del my_dict['지역']\n",
    "print(my_dict)"
   ]
  },
  {
   "cell_type": "markdown",
   "id": "db041efb",
   "metadata": {},
   "source": [
    "## 5) 딕셔너리 키와 값 존재 유무 파악하기"
   ]
  },
  {
   "cell_type": "code",
   "execution_count": null,
   "id": "308b941b",
   "metadata": {},
   "outputs": [],
   "source": [
    "# ① 딕셔너리 dict_a = {'v1': 32, 'l1': [1, 2, 3], 'd1': {'a': 1, 'b': 2}}일 때, \n",
    "#     dict_a 키 중 'v1'가 있는지 확인하고, 'v1'의 값을 가져오시오.\n",
    "#     dict_a 키 중 'v2'가 있으면 값을 불러오고, 없으면 0을 가져오시오.\n",
    "#     힌트: 키 값 in 딕셔너리\n",
    "#     힌트: 딕셔너리.get(키 값, 없을 경우 가져올 값-생략 가능-)\n",
    "\n",
    "dict_a = {'v1': 32, 'l1': [1, 2, 3], 'd1': {'a': 1, 'b': 2}}\n",
    "\n",
    "print('v1' in dict_a)\n",
    "print(dict_a.get('v1'))\n",
    "print(dict_a.get('v2', 0))"
   ]
  },
  {
   "cell_type": "code",
   "execution_count": null,
   "id": "51ccf5ba",
   "metadata": {},
   "outputs": [],
   "source": [
    "# ② 딕셔너리 my_dict = {'이름': '홍길동', '나이': 25, '전공': '경영학', '사용 언어': ['C언어', '파이썬', '자바']}일 때,\n",
    "#     my_dict 키 중 '나이'가 있는지 확인하고, '나이'의 값을 가져오시오.\n",
    "#     my_dict 키 중 '지역'이 있으면 값을 불러오고, 없으면 0을 가져오시오.\n",
    "\n",
    "my_dict = {'이름': '홍길동', '나이': 25, '전공': '경영학', '사용 언어': ['C언어', '파이썬', '자바']}\n",
    "\n",
    "print('나이' in my_dict)\n",
    "print(my_dict.get('나이'))\n",
    "print(my_dict.get('지역', 0))"
   ]
  },
  {
   "cell_type": "code",
   "execution_count": null,
   "id": "60eaec6e",
   "metadata": {},
   "outputs": [],
   "source": [
    "# ③ 딕셔너리 my_dict = {'이름': '홍길동', '나이': 25, '전공': '경영학', '사용 언어': ['C언어', '파이썬', '자바']}일 때,\n",
    "#     my_dict 키 중 '지역'이 있으면 값을 불러오고,\n",
    "#     없으면 '찾으시는 값이 없습니다.'를 출력하시오.\n",
    "\n",
    "my_dict = {'이름': '홍길동', '나이': 25, '전공': '경영학', '사용 언어': ['C언어', '파이썬', '자바']}\n",
    "\n",
    "print(my_dict.get('지역', '찾으시는 값이 없습니다'))"
   ]
  },
  {
   "cell_type": "markdown",
   "id": "4fec37e1",
   "metadata": {},
   "source": [
    "## 6) 딕셔너리와 for loop"
   ]
  },
  {
   "cell_type": "code",
   "execution_count": null,
   "id": "16b0c499",
   "metadata": {},
   "outputs": [],
   "source": [
    "# ① 딕셔너리 dict_a = {'v1': 32, 'l1': [1, 2, 3], 'd1': {'a': 1, 'b': 2}}일 때,\n",
    "#     dict_a의 키와 값을 차례대로 출력하시오.\n",
    "#     힌트: 딕셔너리.items()\n",
    "\n",
    "dict_a = { 'v1': 32, 'l1': [1,2,3], 'd1': {'a':1, 'b':2}}\n",
    "\n",
    "for key, value in dict_a.items() :\n",
    "    print('key : ', key)\n",
    "    print('value : ', value)"
   ]
  },
  {
   "cell_type": "code",
   "execution_count": null,
   "id": "ed3b4fd5",
   "metadata": {},
   "outputs": [],
   "source": [
    "# ② 딕셔너리 my_dict = {'이름': '홍길동', '나이': 25, '전공': '경영학', '사용 언어': ['C언어', '파이썬', '자바']}일 때,\n",
    "#     my_list의 키와 값을 차례대로 출력하시오.\n",
    "\n",
    "my_dict = {'이름': '홍길동', '나이': 25, '전공': '경영학', '사용 언어': ['C언어', '파이썬', '자바']}\n",
    "\n",
    "for key, value in my_dict.items() :\n",
    "    print('key : ', key)\n",
    "    print('value : ', value)"
   ]
  },
  {
   "cell_type": "code",
   "execution_count": null,
   "id": "912c3874",
   "metadata": {},
   "outputs": [],
   "source": [
    "# ③ [심화] 아이스크림 할인점에서 판매하는 아이스크림의 가격은 다음과 같다.\n",
    "#              메로나: 400원, 비비빅: 400원, 탱크보이: 500원, 월드콘: 1000원\n",
    "#              아이스크림의 이름을 키, 가격을 값으로 하여 딕셔너리 icecream을 생성하시오.\n",
    "#               icecream으로부터 키 값으로만 구성된 리스트 name을 생성하시오.\n",
    "\n",
    "icecream = { '메로나' : 400, '비비빅' : 400, '탱크보이' : 500, '월드콘' : 1000 }\n",
    "\n",
    "name = list(icecream.keys())\n",
    "print(name)"
   ]
  },
  {
   "cell_type": "code",
   "execution_count": null,
   "id": "11aff288",
   "metadata": {},
   "outputs": [],
   "source": [
    "# ④ [심화] 홍길동의 과목별 점수는 아래와 같습니다.\n",
    "#              국어: 96점, 수학: 72점, 영어: 88점\n",
    "#              과목명을 키, 점수를 값으로 하여 딕셔너리 subject을 생성하시오.\n",
    "#              subject로부터 점수로만 구성된 리스트 score를 생성하고, 평균을 구하시오.\n",
    "\n",
    "subject = { '국어' : 96, '수학' : 82, '영어' : 88}\n",
    "\n",
    "score = list(subject.values())\n",
    "avg = sum(score) / len(score)\n",
    "print(avg)"
   ]
  }
 ],
 "metadata": {
  "kernelspec": {
   "display_name": "Python 3",
   "language": "python",
   "name": "python3"
  },
  "language_info": {
   "codemirror_mode": {
    "name": "ipython",
    "version": 3
   },
   "file_extension": ".py",
   "mimetype": "text/x-python",
   "name": "python",
   "nbconvert_exporter": "python",
   "pygments_lexer": "ipython3",
   "version": "3.8.8"
  }
 },
 "nbformat": 4,
 "nbformat_minor": 5
}
