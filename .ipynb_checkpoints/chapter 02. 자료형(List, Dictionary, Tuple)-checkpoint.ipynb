{
 "cells": [
  {
   "cell_type": "markdown",
   "id": "f4f897f4",
   "metadata": {},
   "source": [
    "# **자료형(List, Dictionary, Tuple)**\n",
    "\n",
    "* 여러 값을 한꺼번에 저장하고 관리하기 위한 자료형에 대해 배웁니다.\n",
    "* 각 자료형에 대해 3가지를 배웁니다.\n",
    "    * 생성 : 어떻게 만드는지\n",
    "    * 조회 : 어떻게 데이터를 가져다 사용하는지\n",
    "    * 수정 : 어떻게 추가, 변경, 삭제 하는지."
   ]
  },
  {
   "cell_type": "markdown",
   "id": "7b0425a0-ee39-4013-b816-e05a87a14a49",
   "metadata": {},
   "source": [
    "## **1.리스트(list)**"
   ]
  },
  {
   "cell_type": "markdown",
   "id": "32779570",
   "metadata": {},
   "source": [
    "### **(1) 리스트 생성**\n",
    "\n",
    "* 대괄호 […, …, …, …, … ] 로 선언\n",
    "    * List_a = [ 1, 2, 3, 4, 5 ]"
   ]
  },
  {
   "cell_type": "markdown",
   "id": "bbd6bdb1-a8b6-49a2-bf81-fabb6639630d",
   "metadata": {
    "tags": []
   },
   "source": [
    "#### **1) 기본 생성**"
   ]
  },
  {
   "cell_type": "code",
   "execution_count": 5,
   "id": "060a7ef0",
   "metadata": {},
   "outputs": [
    {
     "name": "stdout",
     "output_type": "stream",
     "text": [
      "[1, 2, 3, 4, 5]\n",
      "['a', 'b', 'c', 'd', 'e']\n"
     ]
    }
   ],
   "source": [
    "# 리스트 생성하기\n",
    "list_a = [ 1, 2, 3, 4, 5 ]\n",
    "list_b = ['a','b','c','d','e']\n",
    "\n",
    "# 전체 조회\n",
    "print(list_a)\n",
    "print(list_b)"
   ]
  },
  {
   "cell_type": "markdown",
   "id": "3ccaf1b0-c9e3-4c53-b126-5d2db528370a",
   "metadata": {},
   "source": [
    "* print문\n",
    "    * 코드셀 안에서 화면에 결과를 출력하기 위해서 사용\n",
    "    * 출력할 결과가 1개이면 생략 가능\n",
    "    * 여러 개이면 반드시 print 문 사용해야 함\n",
    "* 대체가능한 함수 : display()"
   ]
  },
  {
   "cell_type": "markdown",
   "id": "3b9bac7b-5144-4467-a3f5-2e8e41dd5d83",
   "metadata": {},
   "source": [
    "#### **2) range 함수**\n",
    "* range 함수는 자주 사용됩니다.\n",
    "    * 순차 증가값(등차행렬)으로 리스트 생성시 \n",
    "* 문법 : range(시작값, 끝값, 증가값)\n",
    "    * 시작값 생략 --> 0부터 시작\n",
    "    * 증가값 생략 --> 1씩 증가\n",
    "    * 끝값 : 포함 안됨, 이전까지"
   ]
  },
  {
   "cell_type": "code",
   "execution_count": 8,
   "id": "60762159-87c2-4c30-a414-15fa9c1b8224",
   "metadata": {},
   "outputs": [
    {
     "data": {
      "text/plain": [
       "range(1, 12, 2)"
      ]
     },
     "execution_count": 8,
     "metadata": {},
     "output_type": "execute_result"
    }
   ],
   "source": [
    "# 1부터 11까지, 2씩 증가하는 값으로 리스트 생성\n",
    "range(1, 12, 2)"
   ]
  },
  {
   "cell_type": "code",
   "execution_count": 9,
   "id": "a6413f46-87e5-4645-9b33-d09c1dae88d6",
   "metadata": {},
   "outputs": [
    {
     "data": {
      "text/plain": [
       "[1, 3, 5, 7, 9, 11]"
      ]
     },
     "execution_count": 9,
     "metadata": {},
     "output_type": "execute_result"
    }
   ],
   "source": [
    "list(range(1, 12, 2))"
   ]
  },
  {
   "cell_type": "code",
   "execution_count": null,
   "id": "58dbcc58",
   "metadata": {},
   "outputs": [],
   "source": [
    "# 20에서 0 전까지, 3씩 감소하는 값으로 리스트 생성\n",
    "\n"
   ]
  },
  {
   "cell_type": "markdown",
   "id": "44739d1e-de4b-4cab-9592-d9558ddf3a73",
   "metadata": {},
   "source": [
    "#### **3) 리스트 안의 리스트**\n",
    "\n",
    "* 리스트 안에 리스트를 포함시킬 수 있습니다.\n",
    "    * 1차원 리스트 안의 1차원 리스트를 포함시켜서, 2차원 리스트를 생성 "
   ]
  },
  {
   "cell_type": "code",
   "execution_count": 10,
   "id": "9b35e90a",
   "metadata": {},
   "outputs": [
    {
     "name": "stdout",
     "output_type": "stream",
     "text": [
      "[[1, 2, 3], 4, 5]\n"
     ]
    }
   ],
   "source": [
    "list_d = [1, 2, 3]\n",
    "list_e = [list_d, 4, 5]\n",
    "print(list_e)"
   ]
  },
  {
   "cell_type": "markdown",
   "id": "9d45d67a-6fa9-4c88-991c-682a6f531cb6",
   "metadata": {},
   "source": [
    "<img src='https://raw.githubusercontent.com/jangrae/img/master/practice_01.png' width=120 align=\"left\"/>"
   ]
  },
  {
   "cell_type": "markdown",
   "id": "1e6ad62e-4239-41af-9271-e28a5c260b15",
   "metadata": {},
   "source": [
    "[문1]"
   ]
  },
  {
   "cell_type": "code",
   "execution_count": null,
   "id": "885b744a-21a3-4e2c-a31f-a9ea34ce1894",
   "metadata": {},
   "outputs": [],
   "source": []
  },
  {
   "cell_type": "markdown",
   "id": "26db1f02-b156-406c-aafa-c7c480b21e10",
   "metadata": {},
   "source": [
    "[문2]"
   ]
  },
  {
   "cell_type": "code",
   "execution_count": null,
   "id": "7c9d00b3-d83b-472a-910d-8b84d2e990cc",
   "metadata": {},
   "outputs": [],
   "source": []
  },
  {
   "cell_type": "markdown",
   "id": "415e0083",
   "metadata": {},
   "source": [
    "### **(2) 리스트 조회**"
   ]
  },
  {
   "cell_type": "markdown",
   "id": "93821149-2924-4aa0-942e-795beb834b3e",
   "metadata": {},
   "source": [
    "#### **1) 인덱스 값으로 조회**\n",
    "* 인덱스 : 0부터 시작\n",
    "* 인덱스의 끝에서부터 셀 때 : -1, -2, 3, ..."
   ]
  },
  {
   "cell_type": "code",
   "execution_count": 11,
   "id": "66a0e92f",
   "metadata": {},
   "outputs": [
    {
     "name": "stdout",
     "output_type": "stream",
     "text": [
      "23 45\n",
      "11 16\n"
     ]
    }
   ],
   "source": [
    "a = [23, 3, 16, 45, 11]\n",
    "print(a[0], a[3])\n",
    "print(a[-1], a[-3])"
   ]
  },
  {
   "cell_type": "markdown",
   "id": "83a4a49e-321d-4faa-b71d-7794c5eb6cca",
   "metadata": {},
   "source": [
    "#### **2) 인덱스 범위 조회(슬라이싱)**\n",
    "* 리스트[시작인덱스:끝인덱스]\n",
    "    * 시작인덱스 부터 **끝 인덱스 전까지**\n",
    "    * 시작인덱스 생략 ==> 처음부터\n",
    "    * 끝인덱스 생략 ==> 끝까지"
   ]
  },
  {
   "cell_type": "code",
   "execution_count": 12,
   "id": "90ab75d3",
   "metadata": {},
   "outputs": [
    {
     "name": "stdout",
     "output_type": "stream",
     "text": [
      "[23, 3, 16]\n",
      "[23, 3, 16]\n"
     ]
    }
   ],
   "source": [
    "a = [23, 3, 16, 45, 11]\n",
    "\n",
    "print(a[0:3])\n",
    "# 또는\n",
    "print(a[:3])"
   ]
  },
  {
   "cell_type": "code",
   "execution_count": 13,
   "id": "a1dba84a",
   "metadata": {},
   "outputs": [
    {
     "name": "stdout",
     "output_type": "stream",
     "text": [
      "[16, 45, 11]\n",
      "[16, 45, 11]\n",
      "[16, 45, 11]\n"
     ]
    }
   ],
   "source": [
    "print(a[2:5])\n",
    "print(a[2:])\n",
    "print(a[-3:])"
   ]
  },
  {
   "cell_type": "markdown",
   "id": "19cbd489-160f-4192-8326-7a1ff2173e3c",
   "metadata": {},
   "source": [
    "<img src='https://raw.githubusercontent.com/jangrae/img/master/practice_01.png' width=120 align=\"left\"/>"
   ]
  },
  {
   "cell_type": "markdown",
   "id": "b5e705b1-1e18-456a-bd94-60d496ee157d",
   "metadata": {},
   "source": [
    "[문1]"
   ]
  },
  {
   "cell_type": "code",
   "execution_count": null,
   "id": "ecaa1ccc-e261-4abc-80c6-997bde1f4286",
   "metadata": {},
   "outputs": [],
   "source": []
  },
  {
   "cell_type": "markdown",
   "id": "71cfe608-7e6d-4584-80eb-647a3b9ee20a",
   "metadata": {},
   "source": [
    "[문2]"
   ]
  },
  {
   "cell_type": "code",
   "execution_count": null,
   "id": "cf743fd6-f20f-4ce6-9508-5bbe1f251100",
   "metadata": {},
   "outputs": [],
   "source": []
  },
  {
   "cell_type": "markdown",
   "id": "fc048fc3",
   "metadata": {},
   "source": [
    "### **(3) 리스트 수정**"
   ]
  },
  {
   "cell_type": "markdown",
   "id": "93d847e3-f6c7-4b0a-b8fe-9118d164b15c",
   "metadata": {},
   "source": [
    "#### **1) 값 추가**\n",
    "* 값을 추가하는 두가지 방법\n",
    "    * ① .append()\n",
    "    * ② 리스트 + [추가할 값] : 리스트1 + 리스트2 = 합쳐진 리스트"
   ]
  },
  {
   "cell_type": "code",
   "execution_count": 14,
   "id": "24ec8803",
   "metadata": {},
   "outputs": [
    {
     "name": "stdout",
     "output_type": "stream",
     "text": [
      "[23, 3, 16, 45, 11, 99]\n"
     ]
    }
   ],
   "source": [
    "a = [23, 3, 16, 45, 11]\n",
    "\n",
    "a.append(99)\n",
    "print(a)"
   ]
  },
  {
   "cell_type": "code",
   "execution_count": 15,
   "id": "ff826916",
   "metadata": {},
   "outputs": [
    {
     "name": "stdout",
     "output_type": "stream",
     "text": [
      "[23, 3, 16, 45, 11, 99]\n"
     ]
    }
   ],
   "source": [
    "a = [23, 3, 16, 45, 11]\n",
    "\n",
    "a = a + [99]\n",
    "print(a)"
   ]
  },
  {
   "cell_type": "markdown",
   "id": "fcecab44-fcd8-40bf-912c-ddddfcdf9ca9",
   "metadata": {},
   "source": [
    "#### **2) 값 수정**\n",
    "* 인덱스로 해당 값을 조회하고 그 자리에 수정\n",
    "    * a[2] = 34"
   ]
  },
  {
   "cell_type": "code",
   "execution_count": 16,
   "id": "768d3baf-69ba-4dd1-ab0d-61485868cf00",
   "metadata": {},
   "outputs": [
    {
     "name": "stdout",
     "output_type": "stream",
     "text": [
      "[23, 3, 24, 45, 11]\n"
     ]
    }
   ],
   "source": [
    "a = [23, 3, 16, 45, 11]\n",
    "\n",
    "a[2] = 24\n",
    "print(a)"
   ]
  },
  {
   "cell_type": "markdown",
   "id": "60723d75-247d-4a87-8ec7-54986d940e38",
   "metadata": {},
   "source": [
    "#### **3) 값 삭제**\n",
    "* 인덱스로 조회한 대상을 삭제 : del a[2]"
   ]
  },
  {
   "cell_type": "code",
   "execution_count": 18,
   "id": "748f0e6e-3633-4b45-910f-0bfb1a8e5e27",
   "metadata": {},
   "outputs": [
    {
     "name": "stdout",
     "output_type": "stream",
     "text": [
      "[23, 3, 45, 11]\n"
     ]
    }
   ],
   "source": [
    "a = [23, 3, 16, 45, 11]\n",
    "\n",
    "del a[2]\n",
    "print(a)"
   ]
  },
  {
   "cell_type": "markdown",
   "id": "da7203b6-2f22-4078-b839-ea9d9df3bf80",
   "metadata": {},
   "source": [
    "* 특정 값을 찾아서 삭제 : \n",
    "    * 리스트.remove(값)"
   ]
  },
  {
   "cell_type": "code",
   "execution_count": 19,
   "id": "afdafb45-a109-4c2a-b314-e30f8b6c50d0",
   "metadata": {},
   "outputs": [
    {
     "name": "stdout",
     "output_type": "stream",
     "text": [
      "[23, 3, 16, 11]\n"
     ]
    }
   ],
   "source": [
    "a = [23, 3, 16, 45, 11]\n",
    "\n",
    "a.remove(45)\n",
    "print(a)"
   ]
  },
  {
   "cell_type": "markdown",
   "id": "3916b592-9bec-45fc-959d-b43d33474f66",
   "metadata": {},
   "source": [
    "<img src='https://raw.githubusercontent.com/jangrae/img/master/practice_01.png' width=120 align=\"left\"/>"
   ]
  },
  {
   "cell_type": "markdown",
   "id": "cc52d873-1dad-4689-85b7-acb83f09b3df",
   "metadata": {},
   "source": [
    "[문1]"
   ]
  },
  {
   "cell_type": "code",
   "execution_count": null,
   "id": "8c5829db-04f2-4cb5-a995-edcf6dac5f79",
   "metadata": {},
   "outputs": [],
   "source": []
  },
  {
   "cell_type": "markdown",
   "id": "c6add7a9-74c6-47a0-a4ca-b681f2c2b84c",
   "metadata": {},
   "source": [
    "[문2]"
   ]
  },
  {
   "cell_type": "code",
   "execution_count": null,
   "id": "1367aff9-7254-4ab1-a67b-000c8cabb8a6",
   "metadata": {},
   "outputs": [],
   "source": []
  },
  {
   "cell_type": "code",
   "execution_count": null,
   "id": "a1e05bf2-f330-49e7-9d81-53d51500ea78",
   "metadata": {},
   "outputs": [],
   "source": []
  },
  {
   "cell_type": "code",
   "execution_count": null,
   "id": "38677fa8-a8a1-4206-9d0a-030c8c8a7189",
   "metadata": {},
   "outputs": [],
   "source": []
  },
  {
   "cell_type": "code",
   "execution_count": null,
   "id": "6d7c0718-46aa-4216-9082-c824b882b400",
   "metadata": {},
   "outputs": [],
   "source": []
  },
  {
   "cell_type": "code",
   "execution_count": null,
   "id": "714525fd-3a9c-44c9-a49b-190d9f45cc38",
   "metadata": {},
   "outputs": [],
   "source": []
  },
  {
   "cell_type": "code",
   "execution_count": null,
   "id": "a695bfef-9598-4b4d-bb43-c71ec8ba524a",
   "metadata": {},
   "outputs": [],
   "source": []
  },
  {
   "cell_type": "code",
   "execution_count": null,
   "id": "6d06df73",
   "metadata": {},
   "outputs": [],
   "source": [
    "# ③ 리스트 list1에 1, 3, 5, 7을 저장한 뒤, 리스트 list2에 리스트 list1과 2, 4, 8을 저장하고,\n",
    "#     list1의 두 번째 값을 list2에 추가하시오.\n",
    "\n",
    "list1 = [1, 3, 5, 7]\n",
    "list2 = [2, 4, 8]\n",
    "list2.append(list1[1])\n",
    "print(list2)"
   ]
  },
  {
   "cell_type": "code",
   "execution_count": null,
   "id": "0a5a2999",
   "metadata": {},
   "outputs": [],
   "source": [
    "# ④ 리스트 list1에 1, 3, 5, 7을 저장한 뒤, 리스트 list2에 리스트 list1과 2, 4, 8을 저장하고,\n",
    "#     list1의 두 번째와 네 번째 값을 list2에 추가하시오.\n",
    "\n",
    "list1 = [1, 3, 5, 7]\n",
    "list2 = [2, 4, 8]\n",
    "list2.append(list1[1])\n",
    "list2.append(list1[3])\n",
    "print(list2)"
   ]
  },
  {
   "cell_type": "code",
   "execution_count": null,
   "id": "6fbba8ef",
   "metadata": {
    "scrolled": true
   },
   "outputs": [],
   "source": [
    "# ⑤ 리스트 list1에 1, 3, 5, 7을 저장한 뒤, 리스트 list2에 리스트 list1과 2, 4, 8을 저장하고,\n",
    "#     리스트 + 리스트 형태를 사용하여 list2에 list1를 추가하시오.\n",
    "\n",
    "list1 = [1, 3, 5, 7]\n",
    "list2 = [2, 4, 8]\n",
    "list2 = list2 + list1\n",
    "print(list2)"
   ]
  },
  {
   "cell_type": "code",
   "execution_count": null,
   "id": "f3252a42",
   "metadata": {},
   "outputs": [],
   "source": [
    "# ⑥ 리스트 list1에 1, 3, 5, 7을 저장한 뒤, 리스트 list2에 리스트 list1과 2, 4, 8을 저장하고,\n",
    "#     list1의 값으로 list2를 추가하시오.\n",
    "#     힌트: 추가될 리스트 이름.append(추가할 리스트 이름)\n",
    "\n",
    "list1 = [1, 3, 5, 7]\n",
    "list2 = [2, 4, 8]\n",
    "list1.append(list2)\n",
    "print(list1)"
   ]
  },
  {
   "cell_type": "code",
   "execution_count": null,
   "id": "2d72f156",
   "metadata": {},
   "outputs": [],
   "source": [
    "# ⑦ 리스트 a에 23, 3, 16, 45, 11을 저장하고, 리스트의 두 번째 값을 출력한 뒤, \n",
    "#    300으로 수정하고 다시 한 번 출력하여 확인하시오.\n",
    "#    힌트: 리스트[수정할 인덱스 값] = 수정할 값\n",
    "\n",
    "a = [23, 3, 16, 45, 11]\n",
    "print(a[1])\n",
    "a[1] = 300\n",
    "print(a)"
   ]
  },
  {
   "cell_type": "code",
   "execution_count": null,
   "id": "81cbdd17",
   "metadata": {},
   "outputs": [],
   "source": [
    "# ⑧ 리스트 a에 23, 3, 16, 45, 11을 저장하고, 리스트의 마지막 값을 출력한 뒤, \n",
    "#     해당 값의 두 배의 값으로 수정하시오.\n",
    "\n",
    "a = [23, 3, 16, 45, 11]\n",
    "print(a[-1])\n",
    "a[-1] = a[-1] * 2\n",
    "print(a)"
   ]
  },
  {
   "cell_type": "code",
   "execution_count": null,
   "id": "90ba61fa",
   "metadata": {},
   "outputs": [],
   "source": [
    "# ⑨  리스트 a에 23, 3, 16, 45, 11을 저장하고, 두 번째 값을 삭제하시오.\n",
    "#      힌트: del 리스트[삭제할 인덱스 값]\n",
    "\n",
    "a = [23, 3, 16, 45, 11]\n",
    "print(a)\n",
    "del a[1]\n",
    "print(a)"
   ]
  },
  {
   "cell_type": "code",
   "execution_count": null,
   "id": "0a14e17e",
   "metadata": {},
   "outputs": [],
   "source": [
    "# ⑩ 리스트 a에 23, 3, 16, 45, 11을 저장하고, 두 번째 값과 네 번째 값을 삭제하시오.\n",
    "\n",
    "a = [23, 3, 16, 45, 11]\n",
    "print(a)\n",
    "\n",
    "del a[1]\n",
    "print(a)\n",
    "\n",
    "del a[3]\n",
    "print(a)"
   ]
  },
  {
   "cell_type": "code",
   "execution_count": null,
   "id": "125da946",
   "metadata": {},
   "outputs": [],
   "source": [
    "# ⑪ [심화] 리스트 my_list에 1부터 10까지 2씩 증가시킨 값을 저장한 뒤, \n",
    "#              my_list의 첫 번째 값을 0으로 수정하고, 세 번째 값을 변수 a에 저장한 뒤 삭제하고, \n",
    "#             append()를 사용하여 my_list에 a의 값을 추가하시오.\n",
    "\n",
    "my_list = list(range(1, 11, 2))\n",
    "print(my_list)\n",
    "\n",
    "my_list[0] = 0\n",
    "print(my_list)\n",
    "\n",
    "a = my_list[2]\n",
    "del my_list[2]\n",
    "print(my_list)\n",
    "\n",
    "my_list.append(a)\n",
    "print(my_list)"
   ]
  },
  {
   "cell_type": "markdown",
   "id": "bb666278-0be9-48d6-95c8-ebd3622028a3",
   "metadata": {},
   "source": [
    "## **2.딕셔너리(dictionary)**\n",
    "\n",
    "* 하나의 딕셔너리 안에 다양한 형태의 여러 값들을 저장\n",
    "* 여러 자료형들의 묶음"
   ]
  },
  {
   "cell_type": "markdown",
   "id": "512c355c-5162-439d-bc5a-256a5035b3e1",
   "metadata": {},
   "source": [
    "### **(1) 생성**\n",
    "\n",
    "* 중괄호 {} 안에 , key : value 형태로 선언합니다.\n",
    "    * Value : 다양한 형태의 변수\n",
    "    * Key : Value 변수의 이름"
   ]
  },
  {
   "cell_type": "code",
   "execution_count": 20,
   "id": "097f3e0a-6f85-4967-9881-1536b54009ab",
   "metadata": {},
   "outputs": [
    {
     "name": "stdout",
     "output_type": "stream",
     "text": [
      "{'v1': 32, 'l1': [1, 2, 3], 'd1': {'a': 1, 'b': 2}}\n"
     ]
    }
   ],
   "source": [
    "dict_a = { 'v1' : 32,\n",
    "           'l1' : [1, 2, 3],\n",
    "           'd1' : {'a' : 1, 'b' : 2} }\n",
    "print(dict_a)"
   ]
  },
  {
   "cell_type": "markdown",
   "id": "3907251b-59f0-403f-ba31-ddb54c05d3fe",
   "metadata": {},
   "source": [
    "* 딕셔너리 정보 조회\n",
    "    * .keys() : 딕셔너리의 key 만 조회\n",
    "    * .values() : 딕셔너리의 값 만 조회\n",
    "    * .items() : key와 값을 쌍(tuple)으로 조회"
   ]
  },
  {
   "cell_type": "code",
   "execution_count": 21,
   "id": "da052dff-c5bc-494a-804e-b473c08e40af",
   "metadata": {},
   "outputs": [
    {
     "data": {
      "text/plain": [
       "dict_keys(['v1', 'l1', 'd1'])"
      ]
     },
     "execution_count": 21,
     "metadata": {},
     "output_type": "execute_result"
    }
   ],
   "source": [
    "dict_a.keys()"
   ]
  },
  {
   "cell_type": "code",
   "execution_count": 22,
   "id": "b5b1c4a9-9ed9-41db-a496-c34c91be6ed9",
   "metadata": {},
   "outputs": [
    {
     "data": {
      "text/plain": [
       "dict_values([32, [1, 2, 3], {'a': 1, 'b': 2}])"
      ]
     },
     "execution_count": 22,
     "metadata": {},
     "output_type": "execute_result"
    }
   ],
   "source": [
    "dict_a.values()"
   ]
  },
  {
   "cell_type": "code",
   "execution_count": 23,
   "id": "74c0e7a5-779a-4529-a1fd-ffe12138f362",
   "metadata": {},
   "outputs": [
    {
     "data": {
      "text/plain": [
       "dict_items([('v1', 32), ('l1', [1, 2, 3]), ('d1', {'a': 1, 'b': 2})])"
      ]
     },
     "execution_count": 23,
     "metadata": {},
     "output_type": "execute_result"
    }
   ],
   "source": [
    "dict_a.items()"
   ]
  },
  {
   "cell_type": "markdown",
   "id": "34e283c5-7e68-4931-97bc-2f70a2b842a8",
   "metadata": {},
   "source": [
    "<img src='https://raw.githubusercontent.com/jangrae/img/master/practice_01.png' width=120 align=\"left\"/>"
   ]
  },
  {
   "cell_type": "markdown",
   "id": "f8f4e92c-b04b-4b46-9d36-b29cb6f7e483",
   "metadata": {},
   "source": [
    "[문1]"
   ]
  },
  {
   "cell_type": "code",
   "execution_count": null,
   "id": "4fba1222-c98d-4ea8-b14a-ec9a66a86b45",
   "metadata": {},
   "outputs": [],
   "source": []
  },
  {
   "cell_type": "markdown",
   "id": "8446b8d8-a54c-48ae-9b0c-3793e5c5d859",
   "metadata": {
    "tags": []
   },
   "source": [
    "### **(2) 조회**\n",
    "\n",
    "* 조회시 키로 값을 조회\n",
    "    * 딕셔너리[키]"
   ]
  },
  {
   "cell_type": "code",
   "execution_count": 25,
   "id": "aea119cf-ab1c-4a59-9154-a7fdc4d8b980",
   "metadata": {},
   "outputs": [
    {
     "name": "stdout",
     "output_type": "stream",
     "text": [
      "32\n",
      "==============================\n",
      "[1, 2, 3]\n",
      "[1, 2]\n",
      "==============================\n",
      "{'a': 1, 'b': 2}\n",
      "1\n"
     ]
    }
   ],
   "source": [
    "dict_a = { 'v1': 32, 'l1': [1,2,3], 'd1': {'a':1, 'b':2}}\n",
    "\n",
    "print( dict_a['v1'])\n",
    "print('=' * 30)\n",
    "\n",
    "print( dict_a['l1'])\n",
    "print( dict_a['l1'][:2])\n",
    "print('=' * 30)\n",
    "\n",
    "print( dict_a['d1'])\n",
    "print( dict_a['d1']['a'])"
   ]
  },
  {
   "cell_type": "markdown",
   "id": "68624fa2-c713-4b88-a3ed-0b9962e82bda",
   "metadata": {},
   "source": [
    "<img src='https://raw.githubusercontent.com/jangrae/img/master/practice_01.png' width=120 align=\"left\"/>"
   ]
  },
  {
   "cell_type": "markdown",
   "id": "d29cda27-244b-4522-abcf-2b8a908833ec",
   "metadata": {},
   "source": [
    "[문1]"
   ]
  },
  {
   "cell_type": "code",
   "execution_count": null,
   "id": "d15fbebf-2afa-4cf0-ac79-bae4649c527d",
   "metadata": {},
   "outputs": [],
   "source": []
  },
  {
   "cell_type": "markdown",
   "id": "e1c84151-e361-4931-a8ad-8c873873f323",
   "metadata": {},
   "source": [
    "### **(3) 수정**"
   ]
  },
  {
   "cell_type": "code",
   "execution_count": null,
   "id": "8bf856d8-ca74-4676-9a4c-4ff9b6e9ebcd",
   "metadata": {},
   "outputs": [],
   "source": [
    "dict_a = { 'v1': 32, 'l1': [1,2,3], 'd1': {'a':1, 'b':2}}"
   ]
  },
  {
   "cell_type": "code",
   "execution_count": 27,
   "id": "ef5f7952-a27c-4c98-83c0-cc905bb2981b",
   "metadata": {},
   "outputs": [
    {
     "name": "stdout",
     "output_type": "stream",
     "text": [
      "{'v1': 32, 'l1': [1, 2, 3], 'd1': {'a': 1, 'b': 2}, 'v2': 500}\n"
     ]
    }
   ],
   "source": [
    "# 추가\n",
    "dict_a['v2'] = 500\n",
    "print(dict_a)"
   ]
  },
  {
   "cell_type": "code",
   "execution_count": 28,
   "id": "3cea2071-bb5d-4f7b-98d5-6f6878ffc250",
   "metadata": {},
   "outputs": [
    {
     "name": "stdout",
     "output_type": "stream",
     "text": [
      "{'v1': 32, 'l1': [1, 2, 3], 'd1': {'a': 1, 'b': 2}, 'v2': 300}\n"
     ]
    }
   ],
   "source": [
    "# 수정\n",
    "dict_a['v2'] = 300\n",
    "print(dict_a)"
   ]
  },
  {
   "cell_type": "code",
   "execution_count": 29,
   "id": "5ef2512c-9a17-4b51-945c-b5bab0bc965a",
   "metadata": {},
   "outputs": [
    {
     "name": "stdout",
     "output_type": "stream",
     "text": [
      "{'v1': 32, 'l1': [1, 2, 3], 'd1': {'a': 1, 'b': 2}}\n"
     ]
    }
   ],
   "source": [
    "# 삭제\n",
    "del dict_a['v2']\n",
    "print(dict_a)"
   ]
  },
  {
   "cell_type": "markdown",
   "id": "bd67989c-fec6-4f28-83f3-3eb3c24fe087",
   "metadata": {},
   "source": [
    "<img src='https://raw.githubusercontent.com/jangrae/img/master/practice_01.png' width=120 align=\"left\"/>"
   ]
  },
  {
   "cell_type": "markdown",
   "id": "1ac46f65-daa7-41d2-b85b-eec350046496",
   "metadata": {},
   "source": [
    "[문1]"
   ]
  },
  {
   "cell_type": "code",
   "execution_count": null,
   "id": "538ebd26-d4c9-433a-ac67-beb4fecc5c09",
   "metadata": {},
   "outputs": [],
   "source": []
  },
  {
   "cell_type": "markdown",
   "id": "6492b849-e4e2-4cdc-99f1-8f1d721432a3",
   "metadata": {},
   "source": [
    "### **(4) [추가]리스트, 딕셔너리로 부터 값 할당하기** "
   ]
  },
  {
   "cell_type": "code",
   "execution_count": 30,
   "id": "de5b9ea0-94df-40e4-930a-c8ae2b435f55",
   "metadata": {},
   "outputs": [
    {
     "name": "stdout",
     "output_type": "stream",
     "text": [
      "23 3 16\n"
     ]
    }
   ],
   "source": [
    "# 리스트로 부터 값 할당\n",
    "a = [23, 3, 16]\n",
    "\n",
    "a1, a2, a3 = a\n",
    "print(a1, a2, a3)"
   ]
  },
  {
   "cell_type": "code",
   "execution_count": 32,
   "id": "930f4467-4308-4574-af00-0a4e056d89df",
   "metadata": {},
   "outputs": [
    {
     "name": "stdout",
     "output_type": "stream",
     "text": [
      "32 [1, 2, 3] {'a': 1, 'b': 2}\n"
     ]
    }
   ],
   "source": [
    "# 딕셔너리로 부터 값 할당\n",
    "dict_a = { 'v1': 32, 'l1': [1,2,3], 'd1': {'a':1, 'b':2}}\n",
    "\n",
    "# 각 값을 할당\n",
    "a1, a2, a3 = dict_a.values()\n",
    "print(a1, a2, a3)"
   ]
  },
  {
   "cell_type": "markdown",
   "id": "b7fa63f5-b072-442b-8baf-1e4ecae7b9f5",
   "metadata": {},
   "source": [
    "## **3.튜플(tuple)**\n",
    "\n",
    "* 튜플은 좌표, 순서쌍을 담는 자료형입니다."
   ]
  },
  {
   "cell_type": "code",
   "execution_count": 33,
   "id": "fe2ea39d-905c-4f2c-8feb-e5bd90efb24f",
   "metadata": {},
   "outputs": [
    {
     "data": {
      "text/plain": [
       "(4, 7)"
      ]
     },
     "execution_count": 33,
     "metadata": {},
     "output_type": "execute_result"
    }
   ],
   "source": [
    "# 소괄호로 선언\n",
    "t = (4,7)\n",
    "t"
   ]
  },
  {
   "cell_type": "code",
   "execution_count": 35,
   "id": "6c80ecc5-0326-4f41-a87d-f51ed3934364",
   "metadata": {},
   "outputs": [
    {
     "name": "stdout",
     "output_type": "stream",
     "text": [
      "4\n",
      "7\n"
     ]
    }
   ],
   "source": [
    "# 조회는 인덱스로\n",
    "print(t[0])\n",
    "print(t[1])"
   ]
  },
  {
   "cell_type": "markdown",
   "id": "0b511e32-9192-494d-b9d4-bc2282c84e0f",
   "metadata": {},
   "source": [
    "## **4.복습문제**"
   ]
  },
  {
   "cell_type": "markdown",
   "id": "a55e1952-1f98-4ffc-98a4-719f855d3b39",
   "metadata": {},
   "source": [
    "1."
   ]
  },
  {
   "cell_type": "code",
   "execution_count": null,
   "id": "7525f4ea-1258-4bc4-8cbb-f9427bc20737",
   "metadata": {},
   "outputs": [],
   "source": []
  },
  {
   "cell_type": "code",
   "execution_count": null,
   "id": "9999b33e-7dcb-4323-9c20-b45fbe844504",
   "metadata": {},
   "outputs": [],
   "source": []
  },
  {
   "cell_type": "code",
   "execution_count": null,
   "id": "a86d8e8f",
   "metadata": {},
   "outputs": [],
   "source": [
    "# ① 리스트 list1에 10, 20, 30, 40, 50을 저장하고, 리스트 값들의 개수를 구하시오.\n",
    "#     힌트: len(리스트 이름)\n",
    "\n",
    "list1 = [10, 20, 30, 40, 50]\n",
    "print(list1)\n",
    "print(len(list1))"
   ]
  },
  {
   "cell_type": "code",
   "execution_count": null,
   "id": "4ed258ee",
   "metadata": {},
   "outputs": [],
   "source": [
    "# ② 리스트 list2에 1부터 20까지 3씩 증가하는 값들을 저장하고, 리스트 값들의 개수를 구하시오.\n",
    "\n",
    "list2 = list(range(1, 21, 3))\n",
    "print(list2)\n",
    "print(len(list2))"
   ]
  },
  {
   "cell_type": "code",
   "execution_count": null,
   "id": "1988b7bd",
   "metadata": {},
   "outputs": [],
   "source": [
    "# ③ 리스트 list3에 'python', 'is', 'funny'를 저장하고, 리스트 값들의 개수를 구하시오.\n",
    "\n",
    "list3 = ['python', 'is', 'funny']\n",
    "print(list3)\n",
    "print(len(list3))"
   ]
  },
  {
   "cell_type": "code",
   "execution_count": null,
   "id": "8b0db0a7",
   "metadata": {},
   "outputs": [],
   "source": [
    "# ④ 리스트 list1에 10, 20, 30, 40, 50을 저장하고, 리스트 값들의 합을 구하시오.\n",
    "#     힌트: sum(리스트 이름)\n",
    "\n",
    "list1 = [10, 20, 30, 40, 50]\n",
    "print(list1)\n",
    "print(sum(list1))"
   ]
  },
  {
   "cell_type": "code",
   "execution_count": null,
   "id": "0f4c7544",
   "metadata": {},
   "outputs": [],
   "source": [
    "# ⑤ 리스트 list2에 1부터 20까지 3씩 증가하는 값들을 저장하고, 리스트 값들의 합을 구하시오.\n",
    "\n",
    "list2 = list(range(1, 21, 3))\n",
    "print(list2)\n",
    "print(sum(list2))"
   ]
  },
  {
   "cell_type": "code",
   "execution_count": null,
   "id": "233391f7",
   "metadata": {},
   "outputs": [],
   "source": [
    "# ⑥ 리스트 list1에 10, 20, 30, 40, 50을 저장하고, list1의 자료형을 구하시오.\n",
    "#     힌트: type(리스트 이름)\n",
    "\n",
    "list1 = [10, 20, 30, 40, 50]\n",
    "print(type(list1))"
   ]
  },
  {
   "cell_type": "code",
   "execution_count": null,
   "id": "01696b4b",
   "metadata": {},
   "outputs": [],
   "source": [
    "# ⑦ 리스트 list2에 1부터 20까지 3씩 증가하는 값들을 저장하고, list2의 네 번째 값의 자료형을 구하시오.\n",
    "\n",
    "list2 = list(range(1, 21, 3))\n",
    "print(type(list2[3]))"
   ]
  },
  {
   "cell_type": "code",
   "execution_count": null,
   "id": "9ea36703",
   "metadata": {},
   "outputs": [],
   "source": [
    "# ⑧ 리스트 list3에 'python', 'is', 'funny'를 저장하고, list3의 마지막 값의 자료형을 구하시오.\n",
    "\n",
    "list3 = ['python', 'is', 'funny']\n",
    "print(type(list3[-1]))"
   ]
  },
  {
   "cell_type": "code",
   "execution_count": null,
   "id": "00947959",
   "metadata": {},
   "outputs": [],
   "source": [
    "# ⑨ 리스트 num = [1, 2, 3, 4, 5]일 때, num의 평균을 변수 avg에 저장하여 출력하시오.\n",
    "\n",
    "num = [1, 2, 3, 4, 5]\n",
    "avg = sum(num) /  len(num)\n",
    "print(avg)"
   ]
  },
  {
   "cell_type": "code",
   "execution_count": null,
   "id": "45f38846",
   "metadata": {},
   "outputs": [],
   "source": [
    "# ① 리스트 list1에 10, 20, 30, 40, 50을 저장하고, 제일 끝에 60을 추가하시오.\n",
    "\n",
    "list1 = [10, 20, 30, 40, 50]\n",
    "list1.append(60)\n",
    "print(list1)"
   ]
  },
  {
   "cell_type": "code",
   "execution_count": null,
   "id": "20f6d6ea",
   "metadata": {},
   "outputs": [],
   "source": [
    "# ② 리스트 list2에 1부터 20까지 3씩 증가하는 값들을 저장하고, 제일 끝에 '3씩 증가'를 추가하시오.\n",
    "\n",
    "list2 = list(range(1, 21, 3))\n",
    "list2.append('3씩 증가')\n",
    "print(list2)"
   ]
  },
  {
   "cell_type": "code",
   "execution_count": null,
   "id": "7d34a796",
   "metadata": {},
   "outputs": [],
   "source": [
    "# ③ 리스트 list3에 'python', 'is', 'funny'를 저장하고, 제일 끝에 '!', 123을 차례대로 추가하시오.\n",
    "\n",
    "list3 = ['python', 'is', 'funny']\n",
    "list3.append('!')\n",
    "list3.append(123)\n",
    "print(list3)"
   ]
  },
  {
   "cell_type": "code",
   "execution_count": null,
   "id": "60d29e0b",
   "metadata": {},
   "outputs": [],
   "source": [
    "# ④ 리스트 list1에 10, 20, 30, 40, 50을 저장하고, 세 번째 위치에 60을 추가하시오.\n",
    "#     힌트: 리스트 이름.insert(추가할 위치의 인덱스 값, 추가할 값)\n",
    "\n",
    "list1 = [10, 20, 30, 40, 50]\n",
    "list1.insert(2, 60)\n",
    "print(list1)"
   ]
  },
  {
   "cell_type": "code",
   "execution_count": null,
   "id": "6b1a38a1",
   "metadata": {},
   "outputs": [],
   "source": [
    "# ⑤ 리스트 list2에 1부터 20까지 3씩 증가하는 값들을 저장하고, 맨앞에 '3씩 증가'를 추가하시오.\n",
    "\n",
    "list2 = list(range(1, 21, 3))\n",
    "list2.insert(0, '3씩 증가')\n",
    "print(list2)"
   ]
  },
  {
   "cell_type": "code",
   "execution_count": null,
   "id": "ea85c8d2",
   "metadata": {},
   "outputs": [],
   "source": [
    "# ⑥ 리스트 list3에 'python', 'is', 'funny'를 저장하고, for loop를 사용하여 세 번째 위치에 'very'를 3개 추가하시오.\n",
    "\n",
    "list3 = ['python', 'is', 'funny']\n",
    "for i in range(1, 4) :\n",
    "    list3.insert(2, 'very')\n",
    "    i += 1\n",
    "print(list3)"
   ]
  },
  {
   "cell_type": "code",
   "execution_count": null,
   "id": "305935aa",
   "metadata": {},
   "outputs": [],
   "source": [
    "# ⑦ 리스트 list1에 10, 20, 30, 40, 50을 저장하고, 30을 삭제하시오.\n",
    "#     힌트: 리스트 이름.remove(삭제할 값)\n",
    "\n",
    "list1 = [10, 20, 30, 40, 50]\n",
    "list1.remove(30)\n",
    "print(list1)"
   ]
  },
  {
   "cell_type": "code",
   "execution_count": null,
   "id": "c0c2c69b",
   "metadata": {},
   "outputs": [],
   "source": [
    "# ⑧ 리스트 list2에 1부터 20까지 3씩 증가하는 값들을 저장하고, 뒤에서 세 번째 값을 삭제하시오.\n",
    "\n",
    "list2 = list(range(1, 21, 3))\n",
    "list2.remove(list2[-2])\n",
    "print(list2)"
   ]
  },
  {
   "cell_type": "code",
   "execution_count": null,
   "id": "6d27de7f",
   "metadata": {},
   "outputs": [],
   "source": [
    "# ⑨ 리스트 list3에 'python', 'is', 'funny'를 저장하고, 'is'와 'funny' 값을 차례대로 삭제하시오.\n",
    "\n",
    "list3 = ['python', 'is', 'funny']\n",
    "list3.remove('is')\n",
    "print(list3)\n",
    "\n",
    "list3.remove('funny')\n",
    "print(list3)"
   ]
  },
  {
   "cell_type": "code",
   "execution_count": null,
   "id": "39c77831",
   "metadata": {},
   "outputs": [],
   "source": [
    "# ⑩ 리스트 a = [1, 4, 3, 2]일 때 리스트의 값들을 정렬해서 출력하시오.\n",
    "#     힌트: 리스트 이름.sort()\n",
    "\n",
    "a = [1, 4, 3, 2]\n",
    "a.sort()\n",
    "print(a)"
   ]
  },
  {
   "cell_type": "code",
   "execution_count": null,
   "id": "888a76e3",
   "metadata": {},
   "outputs": [],
   "source": [
    "# ⑪ 리스트 b = ['c', 'a', 'b', 'd']일 때 리스트의 값들을 내림차순으로 정렬해서 출력하시오.\n",
    "#     힌트: 리스트 이름.sort(reverse = True)\n",
    "\n",
    "b = ['c', 'a', 'b', 'd']\n",
    "b.sort(reverse = True)\n",
    "print(b)"
   ]
  },
  {
   "cell_type": "code",
   "execution_count": null,
   "id": "9fb0315f",
   "metadata": {},
   "outputs": [],
   "source": [
    "# ① 리스트 a = ['사자', '코끼리', '하마', '기린', '얼룩말'] 일 때, \n",
    "#     변수 animal을 사용하여 a의 값들을 하나씩 출력하시오.\n",
    "#     힌트: for 변수명 in 리스트:\n",
    "#                   (실행문)\n",
    "\n",
    "a = ['사자', '코끼리', '하마', '기린', '얼룩말']\n",
    "\n",
    "for animal in a :\n",
    "    print(animal)"
   ]
  },
  {
   "cell_type": "code",
   "execution_count": null,
   "id": "991e23aa",
   "metadata": {},
   "outputs": [],
   "source": [
    "# ② 리스트 b = ['인어공주', '알라딘', '겨울왕국', '라푼젤']일 때, b에 '라이언킹'를 추가하고,\n",
    "#     변수 movie를 사용하여 b의 값들을 하나씩 출력하시오.\n",
    "\n",
    "b = ['인어공주', '알라딘', '겨울왕국', '라푼젤']\n",
    "b.append('라이언킹')\n",
    "for movie in b :\n",
    "    print(movie)"
   ]
  },
  {
   "cell_type": "code",
   "execution_count": null,
   "id": "de7a68fb",
   "metadata": {},
   "outputs": [],
   "source": [
    "# ③ 빈 리스트 multiple7을 생성하고, 1부터 100까지의 값들 중 7의 배수를 multiple7에 저장하여 출력하시오.\n",
    "#    힌트: if문을 사용하여 7의 배수인지 판정한 후 값을 추가합니다.\n",
    "\n",
    "multiple7 = []\n",
    "\n",
    "for n in range(1, 101) :\n",
    "    if n % 7 == 0 :\n",
    "        multiple7.append(n)\n",
    "print(multiple7)"
   ]
  },
  {
   "cell_type": "code",
   "execution_count": null,
   "id": "a53402c5",
   "metadata": {},
   "outputs": [],
   "source": [
    "# ④ 빈 리스트 my_list를 생성하여 다섯 개의 숫자를 입력받아 my_list에 저장하고,\n",
    "#     리스트의 값들을 정렬해서 출력하시오.\n",
    "#     값을 정렬하기 위해서 int(input())을 사용한다.\n",
    "\n",
    "my_list = []\n",
    "\n",
    "for n in range(0, 5) :\n",
    "    print('숫자를 입력하시오.')\n",
    "    number = int(input())\n",
    "    my_list.append(number)\n",
    "    \n",
    "my_list.sort()\n",
    "print(my_list)"
   ]
  },
  {
   "cell_type": "code",
   "execution_count": null,
   "id": "515b050d",
   "metadata": {},
   "outputs": [],
   "source": [
    "# ⑤ [심화] 빈 리스트 numbers를 생성하고,\n",
    "#              1부터 20까지의 값들 중 리스트 odd에는 홀수, 리스트 even에는 짝수를 저장한다.\n",
    "#              리스트 numbers에 odd의 앞에서 다섯 개의 값을 가져와 추가하고,\n",
    "#              그 다음으로 even는 뒤에서부터 다섯 개의 값을 차례대로 가져와 추가한 뒤,\n",
    "#              맨앞에 '리스트 연습'을 추가하여 출력하시오.\n",
    "#              힌트: 홀수는 1부터 2씩 증가, 짝수는 2부터 2씩 증가\n",
    "\n",
    "numbers = []\n",
    "odd = list(range(1, 21, 2))      # 1부터 2씩 증가하는 홀수\n",
    "even = list(range(2, 21, 2))    # 2부터 2씩 증가하는 짝수\n",
    "\n",
    "for n in odd[0:5] :\n",
    "    numbers.append(n)\n",
    "\n",
    "for n in even[-5:] : \n",
    "    numbers.append(n)\n",
    "\n",
    "numbers.insert(0, '리스트 연습')\n",
    "print(numbers)\n"
   ]
  },
  {
   "cell_type": "code",
   "execution_count": null,
   "id": "5305981c",
   "metadata": {},
   "outputs": [],
   "source": [
    "# ⑥ [심화] 소수(prime number)는 1과 자신의 수 로만 나눠지는 수 입니다.\n",
    "#              1부터 100까지의 수 중 소수인 수들을 모두 리스트에 저장하여 출력하시오.\n",
    "#              힌트: for loop를 반복하여 사용한다.\n",
    "#              힌트: 1은 소수에 포함되지 않으며 가장 작은 소수는 2이다. \n",
    "#              힌트: 소수를 저장할 리스트 primes를 생성한다.\n",
    "\n",
    "n= 100\n",
    "primes = []\n",
    "\n",
    "for i in range(2, n + 1) :     # 1은 소수에 포함되지 않기 때문에 2부터 탐색 시작\n",
    "    if i == 2 :                      # 2는 소수이므로 리스트에 저장\n",
    "        primes.append(i)\n",
    "        \n",
    "    for j in range(2, i) :\n",
    "        if i % j == 0 :          # 1~ 100 사이의 숫자 i 가 소수인 j의 배수일 경우 for loop 종료\n",
    "            break\n",
    "        if j == i - 1 :          # for loop가 종료되지 않은 상태에서 1~ 100 사이의 숫자 i 가 소수인 j보다 1 큰 값일 경우\n",
    "            primes.append(i) # 즉, 다른 수를 약수로 갖지 않고 리스트에 저장되지 않은 새로운 수를 소수로 리스트에 저장\n",
    "            \n",
    "print(primes)"
   ]
  },
  {
   "cell_type": "code",
   "execution_count": null,
   "id": "7e50baf6",
   "metadata": {},
   "outputs": [],
   "source": [
    "# ⑦ [심화] 위의 방법은 효율성이 떨어집니다.\n",
    "#              이번에는 '에라토스테네스의 체' 방법을 활용하여 소수를 구해 봅시다.\n",
    "#              에라토스테네스의 체 : 범위에서 합성수를 지우는 방식으로 소수를 찾는 방법\n",
    "#              n보다 작거나 같은 모든 소수를 찾을 때 사용할 수 있다.\n",
    "#              구체적인 과정은 다음과 같다.\n",
    "#              1. 2부터 n까지의 모든 자연수를 나열한다.\n",
    "#              2. 남은 수 중 아직 처리하지 않은 가장 작은 수 i를 찾는다. \n",
    "#              3. 남은 수 중에서 i의 배수를 모두 제거한다. (단, i는 제거하지 않는다.)\n",
    "#              4. 더 이상 반복할 수 없을 때까지 2번과 3번의 과정을 반복한다.\n",
    "#              1부터 100까지의 수 중 소수인 수들을 모두 리스트에 저장하여 출력하시오.\n",
    "#              힌트: 숫자들이 일렬로 배치되어 있는 상태라고 생각하고 문제에 접근해 봅시다.\n",
    "#              힌트: 수들이 소수인지 아닌지 저장할 리스트 a, 소수를 저장할 리스트 primes를 생성한다.\n",
    "#              힌트: 모든 수가 소수(True)라는 가정으로 시작한다. \n",
    "\n",
    "n = 100\n",
    "a =[True] * (n + 1)            # n까지의 모든 수가 소수라고 가정 (1부터 100 사이 수 i에 대해 i가 소수이면 a[i] == True)\n",
    "                                      # 배열의 인덱스는 0부터 시작하므로 1 ~ 100을 인덱스로 나타내 주기 위해서 n + 1개의 인덱스가 필요\n",
    "primes=[]\n",
    "\n",
    "for i in range(2, n + 1) : # 2부터 n까지 수들 중에서\n",
    "    if a[i] == True :             # 만약 i가 소수라면,\n",
    "        primes.append(i)\n",
    "    for j in range(2 * i, 101, i): # 소수 i의 배수들은\n",
    "        a[j] = False             #  소수가 아닌 것으로 설정\n",
    "print(primes)"
   ]
  }
 ],
 "metadata": {
  "kernelspec": {
   "display_name": "Python 3 (ipykernel)",
   "language": "python",
   "name": "python3"
  },
  "language_info": {
   "codemirror_mode": {
    "name": "ipython",
    "version": 3
   },
   "file_extension": ".py",
   "mimetype": "text/x-python",
   "name": "python",
   "nbconvert_exporter": "python",
   "pygments_lexer": "ipython3",
   "version": "3.10.9"
  }
 },
 "nbformat": 4,
 "nbformat_minor": 5
}
