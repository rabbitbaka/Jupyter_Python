{
 "cells": [
  {
   "cell_type": "markdown",
   "metadata": {},
   "source": [
    "# chapter 7. 흐름제어 ② 반복문"
   ]
  },
  {
   "cell_type": "markdown",
   "metadata": {},
   "source": [
    "## 1) range()"
   ]
  },
  {
   "cell_type": "code",
   "execution_count": null,
   "metadata": {},
   "outputs": [],
   "source": [
    "# ①  range 함수를 이용하여 0부터 20까지 출력해 봅시다.\n",
    "\n",
    "print(range(21))"
   ]
  },
  {
   "cell_type": "code",
   "execution_count": null,
   "metadata": {},
   "outputs": [],
   "source": [
    "# ② 값을 눈으로 확인하려면 list(range()) 로 사용해야 합니다.\n",
    "#     list(range()) 를 사용하여 0부터 20까지 출력하시오.\n",
    "\n",
    "print(list(range(21)))"
   ]
  },
  {
   "cell_type": "code",
   "execution_count": null,
   "metadata": {},
   "outputs": [],
   "source": [
    "# ③ 1부터 20까지 출력하시오. \n",
    "\n",
    "print(list(range(1, 21)))"
   ]
  },
  {
   "cell_type": "code",
   "execution_count": null,
   "metadata": {},
   "outputs": [],
   "source": [
    "# ④ 5부터 100까지 5씩 증가시킨 값을 출력하시오.\n",
    "#    힌트: list(range(시작값, 종료값 + 1, 증가값))\n",
    "\n",
    "print(list(range(5, 101, 5)))"
   ]
  },
  {
   "cell_type": "code",
   "execution_count": null,
   "metadata": {},
   "outputs": [],
   "source": [
    "# ⑤ 3부터 60까지 4씩 증가시킨 값을 출력하시오.\n",
    "\n",
    "print(list(range(3, 61, 4)))"
   ]
  },
  {
   "cell_type": "code",
   "execution_count": null,
   "metadata": {},
   "outputs": [],
   "source": [
    "# ⑥ 200부터 10까지 10씩 감소시킨 값을 출력하시오.\n",
    "\n",
    "print(list(range(200, 9, -10)))"
   ]
  },
  {
   "cell_type": "code",
   "execution_count": null,
   "metadata": {},
   "outputs": [],
   "source": [
    "# ⑦ 160부터 10까지 30씩 감소시킨 값을 출력하시오.\n",
    "\n",
    "print(list(range(160, 9, -30)))"
   ]
  },
  {
   "cell_type": "code",
   "execution_count": null,
   "metadata": {},
   "outputs": [],
   "source": [
    "# ⑧ -2에서 -10까지 1씩 감소시킨 값을 출력하시오.\n",
    "\n",
    "print(list(range(-2, -11, -1)))"
   ]
  },
  {
   "cell_type": "code",
   "execution_count": null,
   "metadata": {},
   "outputs": [],
   "source": [
    "# ⑨ 5부터 -15까지 3씩 감소시킨 값을 출력하시오.\n",
    "\n",
    "print(list(range(5, -16, -3)))"
   ]
  },
  {
   "cell_type": "markdown",
   "metadata": {},
   "source": [
    "## 2) for loop"
   ]
  },
  {
   "cell_type": "code",
   "execution_count": null,
   "metadata": {},
   "outputs": [],
   "source": [
    "# ① 0에서 5까지 1씩 증가시켜가면서 값을 출력하시오.\n",
    "#    힌트: for 변수 in range(a, b) :\n",
    "#                  print(변수)\n",
    "\n",
    "for i in range(6) :\n",
    "    print(i)"
   ]
  },
  {
   "cell_type": "code",
   "execution_count": null,
   "metadata": {},
   "outputs": [],
   "source": [
    "# ② 다음의 모양을 출력하시오.\n",
    "#     힌트: 각 줄마다 출력해야 하는 '*'의 수가 하나씩 증가한다는 것을 이용해 봅시다.\n",
    "\n",
    "# *\n",
    "# **\n",
    "# ***\n",
    "# ****\n",
    "# *****\n",
    "\n",
    "for i in range(1, 6) :\n",
    "    print('*' * i)"
   ]
  },
  {
   "cell_type": "code",
   "execution_count": null,
   "metadata": {},
   "outputs": [],
   "source": [
    "# ③ 다음의 모양을 출력하시오.\n",
    "#    힌트: 각 줄마다 출력해야 하는 ' '(공백)과 '*'의 수의 규칙을 생각해 봅시다.\n",
    "\n",
    "#     *\n",
    "#    **\n",
    "#   ***\n",
    "#  ****\n",
    "# *****\n",
    "\n",
    "for i in range(1, 6) :\n",
    "    print(' ' * (5-i) + '*' * i)\n"
   ]
  },
  {
   "cell_type": "code",
   "execution_count": null,
   "metadata": {},
   "outputs": [],
   "source": [
    "# ④ 다음의 모양을 출력하시오.\n",
    "\n",
    "# *\n",
    "# %%\n",
    "# ***\n",
    "# %%%%\n",
    "# *****\n",
    "\n",
    "for i in range(1, 6) :\n",
    "    if i % 2 == 1 :\n",
    "        print('*' * i)\n",
    "    else :\n",
    "        print('%' * i)"
   ]
  },
  {
   "cell_type": "code",
   "execution_count": null,
   "metadata": {
    "scrolled": true
   },
   "outputs": [],
   "source": [
    "# ⑤ 1부터 100까지 모두 더하기\n",
    "\n",
    "total = 0\n",
    "\n",
    "for i in range(1, 101) :\n",
    "    total += i\n",
    "print(total)"
   ]
  },
  {
   "cell_type": "code",
   "execution_count": null,
   "metadata": {},
   "outputs": [],
   "source": [
    "# ⑥ 1부터 100까지 홀수만 더하기\n",
    "\n",
    "total = 0\n",
    "\n",
    "for i in range(1, 101) :\n",
    "    if i % 2 == 1 :\n",
    "        total += i\n",
    "print(total)"
   ]
  },
  {
   "cell_type": "code",
   "execution_count": null,
   "metadata": {},
   "outputs": [],
   "source": [
    "# ⑦ 1부터 500까지 12의 배수만 더하기\n",
    "\n",
    "total = 0\n",
    "\n",
    "for i in range(1, 501) :\n",
    "    if i % 12 == 0 :\n",
    "        total += i\n",
    "print(total)"
   ]
  },
  {
   "cell_type": "code",
   "execution_count": null,
   "metadata": {},
   "outputs": [],
   "source": [
    "# ⑧ 1부터 100까지 홀수는 모두 더하고, 짝수는 모두 빼기\n",
    "#     힌트: for loop 내에 if 사용하여 홀수와 짝수의 경우를 나누어 생각해 봅시다.\n",
    "\n",
    "total = 0\n",
    "\n",
    "for i in range(1, 101) :\n",
    "    if i % 2 != 0 :\n",
    "        total += i\n",
    "    else :\n",
    "        total -= i\n",
    "print(total)"
   ]
  },
  {
   "cell_type": "code",
   "execution_count": null,
   "metadata": {},
   "outputs": [],
   "source": [
    "# ⑨ 1부터 100까지 짝수만 더하고, 더할 때마다 그 결과를 출력하시오.\n",
    "#    연산을 모두 마치면 '덧셈 끝!'이라고 출력하시오.\n",
    "\n",
    "total =  0\n",
    "\n",
    "for i in range(1, 101) :\n",
    "    if i % 2 == 0 :\n",
    "        total += i\n",
    "        print(total)\n",
    "print('덧셈 끝!')"
   ]
  },
  {
   "cell_type": "code",
   "execution_count": null,
   "metadata": {},
   "outputs": [],
   "source": [
    "# ⑩ [심화] 지금까지 배운 내용만을 가지고, \n",
    "#    1부터 100까지 수 중, 소수(prime number)를 제외한 모든 수를 출력하시오. 4,6,8,9,10,12,14,15,.....100\n",
    "#    소수(prime number)는 1과 자신의 수 로만 나눠지는 수 입니다.\n",
    "#   힌트 : for loop를 중첩해서 수행해야 합니다.\n",
    "\n",
    "for i in range(3, 101) :\n",
    "    for j in range(2, i) :\n",
    "        if i % j == 0 : \n",
    "            print(i)\n",
    "            break\n"
   ]
  },
  {
   "cell_type": "code",
   "execution_count": null,
   "metadata": {},
   "outputs": [],
   "source": [
    "# ⑪ [심화] 2단부터 9단까지 구구단을 아래 예시와 같이 출력하시오.\n",
    "#              예시) 2단\n",
    "#              구구단 2 단을 출력합니다.\n",
    "#              2 x 2 = 4\n",
    "#              2 x 3 = 6\n",
    "#              2 x 4 = 8\n",
    "#              2 x 5 = 10\n",
    "#              2 x 6 = 12\n",
    "#              2 x 7 = 14\n",
    "#              2 x 8 = 16\n",
    "#              2 x 9 = 18\n",
    "#              힌트: for loop를 중첩해서 수행해야 합니다.\n",
    "\n",
    "for dan in range(2, 10) :\n",
    "    print(\"구구단\", dan, \"단을 출력합니다.\")\n",
    "    for i in range(2, 10) :\n",
    "        print(dan, \"x\", i, \"=\", dan*i)\n"
   ]
  },
  {
   "cell_type": "markdown",
   "metadata": {},
   "source": [
    "## 3) while loop"
   ]
  },
  {
   "cell_type": "code",
   "execution_count": null,
   "metadata": {},
   "outputs": [],
   "source": [
    "# ① 0에서 5까지 1씩 증가시켜가면서 값을 출력하시오.\n",
    "#     힌트: while 변수 <= 범위의 마지막 값: \n",
    "#                      (실행문)\n",
    "\n",
    "i = 0\n",
    "\n",
    "while i <= 5 :\n",
    "    print(i)\n",
    "    i += 1"
   ]
  },
  {
   "cell_type": "code",
   "execution_count": null,
   "metadata": {
    "scrolled": true
   },
   "outputs": [],
   "source": [
    "# ② 다음의 모양을 출력하시오.\n",
    "\n",
    "# *\n",
    "# %%\n",
    "# ***\n",
    "# %%%%\n",
    "# *****\n",
    "\n",
    "i = 1\n",
    "\n",
    "while i <=5 :\n",
    "    if i % 2 != 0 :\n",
    "        print('*' * i)\n",
    "    else :\n",
    "        print('%'*i)\n",
    "    i += 1"
   ]
  },
  {
   "cell_type": "code",
   "execution_count": null,
   "metadata": {},
   "outputs": [],
   "source": [
    "# ③ 1부터 100까지 홀수만 더하기\n",
    "\n",
    "total = 0\n",
    "i = 1\n",
    "\n",
    "while i <= 100 :\n",
    "    if i % 2 == 1 :\n",
    "        total += i\n",
    "    i += 1\n",
    "print(total)"
   ]
  },
  {
   "cell_type": "code",
   "execution_count": null,
   "metadata": {},
   "outputs": [],
   "source": [
    "# ④ 1부터 100까지 짝수만 더하고, 더할 때마다 그 결과를 출력하시오.\n",
    "#    연산을 모두 마치면 '덧셈 끝!'이라고 출력하시오.\n",
    "\n",
    "total = 0\n",
    "i = 1\n",
    "\n",
    "while i <= 100 :\n",
    "    if i % 2 == 0 :\n",
    "        total += i\n",
    "        print(total)\n",
    "    i += 1\n",
    "print('덧셈 끝!')\n"
   ]
  },
  {
   "cell_type": "code",
   "execution_count": null,
   "metadata": {},
   "outputs": [],
   "source": [
    "# ⑤ 변수 a에 사용자의 이름을 입력받아, 자신의 이름과 일치하면, 환영메시지를, \n",
    "#     아니면 다시 입력 받게 코드를 작성하시오.\n",
    "#    힌트: a = input()\n",
    "\n",
    "while True :\n",
    "    a = input()\n",
    "    if a == '이름' :\n",
    "        print('Welcome~!')\n",
    "        break"
   ]
  },
  {
   "cell_type": "code",
   "execution_count": null,
   "metadata": {},
   "outputs": [],
   "source": [
    "# ⑥ 변수 num에 숫자를 저장하고, 한 개의 문장을 입력받아 num개만큼 출력하시오.\n",
    "\n",
    "num = 5\n",
    "\n",
    "a = input()\n",
    "\n",
    "while num > 0 :\n",
    "    print(a)\n",
    "    num -= 1\n",
    "    "
   ]
  },
  {
   "cell_type": "code",
   "execution_count": null,
   "metadata": {},
   "outputs": [],
   "source": [
    "# ⑦ [심화] 홍길동의 과목별 점수는 아래와 같습니다.\n",
    "#              국어: 96점, 수학: 72점, 영어: 88점\n",
    "#              변수 kor, math, eng 에 각 과목 점수를 저장한 뒤, \n",
    "#              과목명을 입력받아, 해당하는 과목의 점수를 출력하고 종료한다.\n",
    "#             일치하는 과목명이 없으면 '잘못 입력하셨습니다.'를 출력하며 다시 입력 받게 코드를 작성한다.\n",
    "\n",
    "kor = 96\n",
    "math = 72\n",
    "eng = 88\n",
    "\n",
    "while True:\n",
    "    sub = input()\n",
    "    if sub == '국어' :\n",
    "        print(kor)\n",
    "        break\n",
    "    elif sub == '수학' :\n",
    "        print(math)\n",
    "        break\n",
    "    elif sub == '영어' :\n",
    "        print(eng)\n",
    "        break\n",
    "    else :\n",
    "        print('잘못 입력하셨습니다.')"
   ]
  },
  {
   "cell_type": "code",
   "execution_count": null,
   "metadata": {},
   "outputs": [],
   "source": [
    "# ⑧  [심화] 5000원의 돈을 갖고 자판기에서 한 잔에 300원인 커피를 최대한 많이 구매하려고 한다.\n",
    "#               갖고 있는 돈을 변수 money, 커피 한 잔의 가격을 변수 coffee에 저장한다.\n",
    "#               '커피를 구입하시겠습니까?'에 대한 대답을 입력받아, 대답이 '네'일 경우 커피가 판매된다.\n",
    "#               다른 대답을 할 경우 '다시 입력해 주세요.'라고 출력한다.\n",
    "#               한 잔을 구매할 때마다 남은 돈을 변수 money에 저장하여 출력한다.\n",
    "#               커피를 살 돈이 모자랄 경우 '돈이 모자랍니다. 커피를 구입할 수 없습니다.'라고 출력한다.\n",
    "#               힌트: while 문 내에서 if 조건문을 중첩해서 사용해야 합니다.\n",
    "\n",
    "coffee = 300\n",
    "money =5000\n",
    "\n",
    "while True:\n",
    "    print('커피를 구입하시겠습니까?')\n",
    "    a = input()\n",
    "    if a == '네' :\n",
    "        money -= 300             # 현재 갖고 있는 돈에서 커피 한 잔의 가격 차감하여 money에 저장\n",
    "        print(money)               # 남은 돈 출력\n",
    "        if money < 300:           # 남은 돈이 커피 한 잔의 가격보다 적어지면\n",
    "            print('돈이 모자랍니다. 커피를 구입할 수 없습니다.')\n",
    "            break\n",
    "    else :\n",
    "        print('다시 입력해 주세요.')"
   ]
  },
  {
   "cell_type": "markdown",
   "metadata": {},
   "source": [
    "# 4) 종합실습"
   ]
  },
  {
   "cell_type": "markdown",
   "metadata": {},
   "source": [
    "[숫자 맞히기 게임] 을 만들어 봅시다.\n",
    "> ① 변수 number에 0 ~ 100 사이의 숫자(맞혀야 할 숫자) 하나를 저장합니다.  \n",
    "② '0 ~ 100 사이의 숫자를 맞혀보세요.' 라고 출력되고  \n",
    "③ 사용자 입력을 기다립니다.  \n",
    "④ 사용자가 입력한 숫자가 0 ~ 100 범위를 벗어나면, '잘못 입력하셨습니다. 0 ~ 100 사이의 숫자를 맞혀보세요.' 다시 출력합니다.  \n",
    "⑤ 숫자가 입력되면, number 보다 큰지, 작은지 알려줍니다.\n",
    "⑥ 맞히게 되면, '맞혔습니다. 축하합니다.' 를 출력하고 종료합니다.  \n",
    "⑦ 입력받은 값은 문자 형태로, 숫자 형태로 바꾸어 연산하려면 int(input())을 사용해야 한다."
   ]
  },
  {
   "cell_type": "code",
   "execution_count": null,
   "metadata": {},
   "outputs": [],
   "source": [
    "#빈칸을 채워 코드를 완성하시오.\n",
    "number = 78  \n",
    "\n",
    "while True :  \n",
    "    print('0 ~ 100 사이의 숫자를 맞혀보세요.')  \n",
    "    num = int(input(  ))  \n",
    "    if (     ) :  \n",
    "        print('잘못 입력하셨습니다.')  \n",
    "    else:  \n",
    "        if (     ) :  \n",
    "            print('맞혔습니다. 축하합니다.')  \n",
    "            (    )  \n",
    "        elif (     ) :  \n",
    "            print('입력한 숫자보다 작습니다.')  \n",
    "        else :  \n",
    "            print('입력한 숫자보다 큽니다.')  "
   ]
  },
  {
   "cell_type": "code",
   "execution_count": null,
   "metadata": {},
   "outputs": [],
   "source": [
    "number = 78\n",
    "\n",
    "while True :\n",
    "    print('0 ~ 100 사이의 숫자를 맞혀보세요.')\n",
    "    num = int(input())\n",
    "    if num > 100 or num < 0 :            # 입력한 숫자가 0 ~ 100 사이의 숫자가 아닐 경우\n",
    "        print('잘못 입력하셨습니다.')\n",
    "    else:\n",
    "        if num == number :                 # 입력한 숫자가 맞혀야 할 숫자와 일치할 경우\n",
    "            print('맞혔습니다. 축하합니다.')\n",
    "            break\n",
    "        elif num > number :                # 입력한 숫자가 맞혀야 할 숫자보다 클 경우\n",
    "            print('입력한 숫자보다 작습니다.')\n",
    "        else :                                     # 입력한 숫자가 맞혀야 할 숫자보다 작을 경우\n",
    "            print('입력한 숫자보다 큽니다.')"
   ]
  },
  {
   "cell_type": "markdown",
   "metadata": {},
   "source": [
    "(추가) 다음의 기능을 추가해 봅시다.\n",
    "> ① 총 시도횟수를 5번으로 한정하여, 남은 시도횟수를 출력해 주고, 시도횟수가 끝나면 게임이 종료되도록 만들어 보세요.  \n",
    "② 맞히게 되면, 종료하지 말고, '다시 게임을 하시겠습니까?(y/n)' 를 출력하고, y가 입력되면 다시 게임이 시작되도록 해보세요.  \n",
    "③ random 모듈의 choice를 이용하여 맞혀야 할 숫자를 무작위로 생성하도록 해보세요.  \n",
    "    * 사용법\n",
    "        import random  \n",
    "        random.choice(range(101))"
   ]
  },
  {
   "cell_type": "code",
   "execution_count": null,
   "metadata": {},
   "outputs": [],
   "source": [
    "import random\n",
    "\n",
    "number = random.choice(range(101))        # 맞혀야 할 숫자 무작위 생성\n",
    "chance = 5                                                # 총 시도 횟수 5번\n",
    "answer = 'y'                                              # 변수 answer로 대답의 초기값을 'y'로 저장하여 설정\n",
    "\n",
    "while answer == 'y' :                                # 대답이 'y'인 동안 게임 진행 (위에서 초기값을 설정한 이유)\n",
    "    while chance > 0 :                               # 시도 횟수가 모두 없어지지 않을 동안\n",
    "        print(number)\n",
    "        print('0 ~ 100 사이의 숫자를 맞혀보세요.')\n",
    "        num = int(input())\n",
    "        if num > 100 or num < 0 :\n",
    "            print('잘못 입력하셨습니다.')\n",
    "        else:\n",
    "            if num == number :\n",
    "                print('맞혔습니다. 축하합니다.')\n",
    "                print('다시 게임을 하시겠습니까?(y/n)')    # 맞히게 되면, 종료하지 말고 출력\n",
    "                answer = input()                                 # 대답을 입력받아서 저장\n",
    "                number = random.choice(range(101))   # 새롭게 맞혀야 할 숫자 생성\n",
    "                chance = 5                                           # 시도 횟수 복구 후 게임 다시 진행\n",
    "                if answer == 'n' :                                  # 대답이 'n'일 경우에는 게임 종료\n",
    "                    break\n",
    "            elif num > number :\n",
    "                print('입력한 숫자보다 작습니다.')\n",
    "                chance -= 1\n",
    "                print(chance)\n",
    "            else :\n",
    "                print('입력한 숫자보다 큽니다.')\n",
    "                chance -= 1\n",
    "                print(chance)\n",
    "    break"
   ]
  }
 ],
 "metadata": {
  "kernelspec": {
   "display_name": "Python 3",
   "language": "python",
   "name": "python3"
  },
  "language_info": {
   "codemirror_mode": {
    "name": "ipython",
    "version": 3
   },
   "file_extension": ".py",
   "mimetype": "text/x-python",
   "name": "python",
   "nbconvert_exporter": "python",
   "pygments_lexer": "ipython3",
   "version": "3.8.8"
  }
 },
 "nbformat": 4,
 "nbformat_minor": 2
}
